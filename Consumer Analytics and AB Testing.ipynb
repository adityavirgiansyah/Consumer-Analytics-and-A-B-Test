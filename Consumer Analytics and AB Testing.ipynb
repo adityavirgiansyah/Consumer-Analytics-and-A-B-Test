{
 "cells": [
  {
   "cell_type": "code",
   "execution_count": 100,
   "id": "ae81fa82",
   "metadata": {},
   "outputs": [],
   "source": [
    "import pandas as pd\n",
    "import numpy as np\n",
    "import matplotlib.pyplot as plt\n",
    "import seaborn as sns\n",
    "from datetime import datetime, timedelta\n",
    "import scipy\n",
    "from scipy import stats\n",
    "import scipy.stats as sci"
   ]
  },
  {
   "cell_type": "markdown",
   "id": "aa645385",
   "metadata": {},
   "source": [
    "## LOAD DATASET"
   ]
  },
  {
   "cell_type": "code",
   "execution_count": 2,
   "id": "4d4c3935",
   "metadata": {},
   "outputs": [],
   "source": [
    "customer_data = pd.read_csv('user_demographics.csv')\n",
    "customer_data['date'] = customer_data['reg_date']"
   ]
  },
  {
   "cell_type": "code",
   "execution_count": 3,
   "id": "a503cdbf",
   "metadata": {},
   "outputs": [
    {
     "data": {
      "text/html": [
       "<div>\n",
       "<style scoped>\n",
       "    .dataframe tbody tr th:only-of-type {\n",
       "        vertical-align: middle;\n",
       "    }\n",
       "\n",
       "    .dataframe tbody tr th {\n",
       "        vertical-align: top;\n",
       "    }\n",
       "\n",
       "    .dataframe thead th {\n",
       "        text-align: right;\n",
       "    }\n",
       "</style>\n",
       "<table border=\"1\" class=\"dataframe\">\n",
       "  <thead>\n",
       "    <tr style=\"text-align: right;\">\n",
       "      <th></th>\n",
       "      <th>uid</th>\n",
       "      <th>reg_date</th>\n",
       "      <th>device</th>\n",
       "      <th>gender</th>\n",
       "      <th>country</th>\n",
       "      <th>age</th>\n",
       "      <th>date</th>\n",
       "    </tr>\n",
       "  </thead>\n",
       "  <tbody>\n",
       "    <tr>\n",
       "      <th>0</th>\n",
       "      <td>54030035.0</td>\n",
       "      <td>2017-06-29T00:00:00Z</td>\n",
       "      <td>and</td>\n",
       "      <td>M</td>\n",
       "      <td>USA</td>\n",
       "      <td>19</td>\n",
       "      <td>2017-06-29T00:00:00Z</td>\n",
       "    </tr>\n",
       "    <tr>\n",
       "      <th>1</th>\n",
       "      <td>72574201.0</td>\n",
       "      <td>2018-03-05T00:00:00Z</td>\n",
       "      <td>iOS</td>\n",
       "      <td>F</td>\n",
       "      <td>TUR</td>\n",
       "      <td>22</td>\n",
       "      <td>2018-03-05T00:00:00Z</td>\n",
       "    </tr>\n",
       "    <tr>\n",
       "      <th>2</th>\n",
       "      <td>64187558.0</td>\n",
       "      <td>2016-02-07T00:00:00Z</td>\n",
       "      <td>iOS</td>\n",
       "      <td>M</td>\n",
       "      <td>USA</td>\n",
       "      <td>16</td>\n",
       "      <td>2016-02-07T00:00:00Z</td>\n",
       "    </tr>\n",
       "    <tr>\n",
       "      <th>3</th>\n",
       "      <td>92513925.0</td>\n",
       "      <td>2017-05-25T00:00:00Z</td>\n",
       "      <td>and</td>\n",
       "      <td>M</td>\n",
       "      <td>BRA</td>\n",
       "      <td>41</td>\n",
       "      <td>2017-05-25T00:00:00Z</td>\n",
       "    </tr>\n",
       "    <tr>\n",
       "      <th>4</th>\n",
       "      <td>99231338.0</td>\n",
       "      <td>2017-03-26T00:00:00Z</td>\n",
       "      <td>iOS</td>\n",
       "      <td>M</td>\n",
       "      <td>FRA</td>\n",
       "      <td>59</td>\n",
       "      <td>2017-03-26T00:00:00Z</td>\n",
       "    </tr>\n",
       "  </tbody>\n",
       "</table>\n",
       "</div>"
      ],
      "text/plain": [
       "          uid              reg_date device gender country  age  \\\n",
       "0  54030035.0  2017-06-29T00:00:00Z    and      M     USA   19   \n",
       "1  72574201.0  2018-03-05T00:00:00Z    iOS      F     TUR   22   \n",
       "2  64187558.0  2016-02-07T00:00:00Z    iOS      M     USA   16   \n",
       "3  92513925.0  2017-05-25T00:00:00Z    and      M     BRA   41   \n",
       "4  99231338.0  2017-03-26T00:00:00Z    iOS      M     FRA   59   \n",
       "\n",
       "                   date  \n",
       "0  2017-06-29T00:00:00Z  \n",
       "1  2018-03-05T00:00:00Z  \n",
       "2  2016-02-07T00:00:00Z  \n",
       "3  2017-05-25T00:00:00Z  \n",
       "4  2017-03-26T00:00:00Z  "
      ]
     },
     "execution_count": 3,
     "metadata": {},
     "output_type": "execute_result"
    }
   ],
   "source": [
    "customer_data.head()"
   ]
  },
  {
   "cell_type": "code",
   "execution_count": 4,
   "id": "49d220d9",
   "metadata": {},
   "outputs": [
    {
     "name": "stdout",
     "output_type": "stream",
     "text": [
      "<class 'pandas.core.frame.DataFrame'>\n",
      "RangeIndex: 10000 entries, 0 to 9999\n",
      "Data columns (total 7 columns):\n",
      " #   Column    Non-Null Count  Dtype  \n",
      "---  ------    --------------  -----  \n",
      " 0   uid       10000 non-null  float64\n",
      " 1   reg_date  10000 non-null  object \n",
      " 2   device    10000 non-null  object \n",
      " 3   gender    10000 non-null  object \n",
      " 4   country   10000 non-null  object \n",
      " 5   age       10000 non-null  int64  \n",
      " 6   date      10000 non-null  object \n",
      "dtypes: float64(1), int64(1), object(5)\n",
      "memory usage: 547.0+ KB\n"
     ]
    }
   ],
   "source": [
    "customer_data.info()"
   ]
  },
  {
   "cell_type": "code",
   "execution_count": 5,
   "id": "8dc0d43f",
   "metadata": {},
   "outputs": [
    {
     "data": {
      "text/plain": [
       "10000"
      ]
     },
     "execution_count": 5,
     "metadata": {},
     "output_type": "execute_result"
    }
   ],
   "source": [
    "len(customer_data)"
   ]
  },
  {
   "cell_type": "code",
   "execution_count": 6,
   "id": "c954f335",
   "metadata": {},
   "outputs": [
    {
     "data": {
      "text/html": [
       "<div>\n",
       "<style scoped>\n",
       "    .dataframe tbody tr th:only-of-type {\n",
       "        vertical-align: middle;\n",
       "    }\n",
       "\n",
       "    .dataframe tbody tr th {\n",
       "        vertical-align: top;\n",
       "    }\n",
       "\n",
       "    .dataframe thead th {\n",
       "        text-align: right;\n",
       "    }\n",
       "</style>\n",
       "<table border=\"1\" class=\"dataframe\">\n",
       "  <thead>\n",
       "    <tr style=\"text-align: right;\">\n",
       "      <th></th>\n",
       "      <th>date</th>\n",
       "      <th>uid</th>\n",
       "      <th>sku</th>\n",
       "      <th>price</th>\n",
       "    </tr>\n",
       "  </thead>\n",
       "  <tbody>\n",
       "    <tr>\n",
       "      <th>0</th>\n",
       "      <td>2017-07-10</td>\n",
       "      <td>41195147</td>\n",
       "      <td>sku_three_499</td>\n",
       "      <td>499</td>\n",
       "    </tr>\n",
       "    <tr>\n",
       "      <th>1</th>\n",
       "      <td>2017-07-15</td>\n",
       "      <td>41195147</td>\n",
       "      <td>sku_three_499</td>\n",
       "      <td>499</td>\n",
       "    </tr>\n",
       "    <tr>\n",
       "      <th>2</th>\n",
       "      <td>2017-11-12</td>\n",
       "      <td>41195147</td>\n",
       "      <td>sku_four_599</td>\n",
       "      <td>599</td>\n",
       "    </tr>\n",
       "    <tr>\n",
       "      <th>3</th>\n",
       "      <td>2017-09-26</td>\n",
       "      <td>91591874</td>\n",
       "      <td>sku_two_299</td>\n",
       "      <td>299</td>\n",
       "    </tr>\n",
       "    <tr>\n",
       "      <th>4</th>\n",
       "      <td>2017-12-01</td>\n",
       "      <td>91591874</td>\n",
       "      <td>sku_four_599</td>\n",
       "      <td>599</td>\n",
       "    </tr>\n",
       "  </tbody>\n",
       "</table>\n",
       "</div>"
      ],
      "text/plain": [
       "         date       uid            sku  price\n",
       "0  2017-07-10  41195147  sku_three_499    499\n",
       "1  2017-07-15  41195147  sku_three_499    499\n",
       "2  2017-11-12  41195147   sku_four_599    599\n",
       "3  2017-09-26  91591874    sku_two_299    299\n",
       "4  2017-12-01  91591874   sku_four_599    599"
      ]
     },
     "execution_count": 6,
     "metadata": {},
     "output_type": "execute_result"
    }
   ],
   "source": [
    "app_purchases = pd.read_csv('purchase_data_v1.csv')\n",
    "app_purchases.head()"
   ]
  },
  {
   "cell_type": "code",
   "execution_count": 7,
   "id": "3d989cea",
   "metadata": {},
   "outputs": [
    {
     "name": "stdout",
     "output_type": "stream",
     "text": [
      "<class 'pandas.core.frame.DataFrame'>\n",
      "RangeIndex: 9006 entries, 0 to 9005\n",
      "Data columns (total 4 columns):\n",
      " #   Column  Non-Null Count  Dtype \n",
      "---  ------  --------------  ----- \n",
      " 0   date    9006 non-null   object\n",
      " 1   uid     9006 non-null   int64 \n",
      " 2   sku     9006 non-null   object\n",
      " 3   price   9006 non-null   int64 \n",
      "dtypes: int64(2), object(2)\n",
      "memory usage: 281.6+ KB\n"
     ]
    }
   ],
   "source": [
    "app_purchases.info()"
   ]
  },
  {
   "cell_type": "code",
   "execution_count": 8,
   "id": "bde5be6e",
   "metadata": {},
   "outputs": [
    {
     "data": {
      "text/plain": [
       "9006"
      ]
     },
     "execution_count": 8,
     "metadata": {},
     "output_type": "execute_result"
    }
   ],
   "source": [
    "len(app_purchases)"
   ]
  },
  {
   "cell_type": "code",
   "execution_count": 9,
   "id": "60f2195d",
   "metadata": {},
   "outputs": [
    {
     "data": {
      "text/html": [
       "<div>\n",
       "<style scoped>\n",
       "    .dataframe tbody tr th:only-of-type {\n",
       "        vertical-align: middle;\n",
       "    }\n",
       "\n",
       "    .dataframe tbody tr th {\n",
       "        vertical-align: top;\n",
       "    }\n",
       "\n",
       "    .dataframe thead th {\n",
       "        text-align: right;\n",
       "    }\n",
       "</style>\n",
       "<table border=\"1\" class=\"dataframe\">\n",
       "  <thead>\n",
       "    <tr style=\"text-align: right;\">\n",
       "      <th></th>\n",
       "      <th>date_x</th>\n",
       "      <th>uid</th>\n",
       "      <th>sku</th>\n",
       "      <th>price</th>\n",
       "      <th>reg_date</th>\n",
       "      <th>device</th>\n",
       "      <th>gender</th>\n",
       "      <th>country</th>\n",
       "      <th>age</th>\n",
       "      <th>date_y</th>\n",
       "    </tr>\n",
       "  </thead>\n",
       "  <tbody>\n",
       "    <tr>\n",
       "      <th>0</th>\n",
       "      <td>2017-07-10</td>\n",
       "      <td>41195147</td>\n",
       "      <td>sku_three_499</td>\n",
       "      <td>499</td>\n",
       "      <td>2017-06-26T00:00:00Z</td>\n",
       "      <td>and</td>\n",
       "      <td>M</td>\n",
       "      <td>BRA</td>\n",
       "      <td>17</td>\n",
       "      <td>2017-06-26T00:00:00Z</td>\n",
       "    </tr>\n",
       "    <tr>\n",
       "      <th>1</th>\n",
       "      <td>2017-07-15</td>\n",
       "      <td>41195147</td>\n",
       "      <td>sku_three_499</td>\n",
       "      <td>499</td>\n",
       "      <td>2017-06-26T00:00:00Z</td>\n",
       "      <td>and</td>\n",
       "      <td>M</td>\n",
       "      <td>BRA</td>\n",
       "      <td>17</td>\n",
       "      <td>2017-06-26T00:00:00Z</td>\n",
       "    </tr>\n",
       "    <tr>\n",
       "      <th>2</th>\n",
       "      <td>2017-11-12</td>\n",
       "      <td>41195147</td>\n",
       "      <td>sku_four_599</td>\n",
       "      <td>599</td>\n",
       "      <td>2017-06-26T00:00:00Z</td>\n",
       "      <td>and</td>\n",
       "      <td>M</td>\n",
       "      <td>BRA</td>\n",
       "      <td>17</td>\n",
       "      <td>2017-06-26T00:00:00Z</td>\n",
       "    </tr>\n",
       "    <tr>\n",
       "      <th>3</th>\n",
       "      <td>2017-09-26</td>\n",
       "      <td>91591874</td>\n",
       "      <td>sku_two_299</td>\n",
       "      <td>299</td>\n",
       "      <td>2017-01-05T00:00:00Z</td>\n",
       "      <td>and</td>\n",
       "      <td>M</td>\n",
       "      <td>TUR</td>\n",
       "      <td>17</td>\n",
       "      <td>2017-01-05T00:00:00Z</td>\n",
       "    </tr>\n",
       "    <tr>\n",
       "      <th>4</th>\n",
       "      <td>2017-12-01</td>\n",
       "      <td>91591874</td>\n",
       "      <td>sku_four_599</td>\n",
       "      <td>599</td>\n",
       "      <td>2017-01-05T00:00:00Z</td>\n",
       "      <td>and</td>\n",
       "      <td>M</td>\n",
       "      <td>TUR</td>\n",
       "      <td>17</td>\n",
       "      <td>2017-01-05T00:00:00Z</td>\n",
       "    </tr>\n",
       "    <tr>\n",
       "      <th>...</th>\n",
       "      <td>...</td>\n",
       "      <td>...</td>\n",
       "      <td>...</td>\n",
       "      <td>...</td>\n",
       "      <td>...</td>\n",
       "      <td>...</td>\n",
       "      <td>...</td>\n",
       "      <td>...</td>\n",
       "      <td>...</td>\n",
       "      <td>...</td>\n",
       "    </tr>\n",
       "    <tr>\n",
       "      <th>9001</th>\n",
       "      <td>2017-09-16</td>\n",
       "      <td>63245432</td>\n",
       "      <td>sku_five_899</td>\n",
       "      <td>899</td>\n",
       "      <td>2016-12-04T00:00:00Z</td>\n",
       "      <td>and</td>\n",
       "      <td>F</td>\n",
       "      <td>FRA</td>\n",
       "      <td>20</td>\n",
       "      <td>2016-12-04T00:00:00Z</td>\n",
       "    </tr>\n",
       "    <tr>\n",
       "      <th>9002</th>\n",
       "      <td>2017-04-21</td>\n",
       "      <td>36350096</td>\n",
       "      <td>sku_seven_1499</td>\n",
       "      <td>499</td>\n",
       "      <td>2017-04-07T00:00:00Z</td>\n",
       "      <td>and</td>\n",
       "      <td>M</td>\n",
       "      <td>USA</td>\n",
       "      <td>23</td>\n",
       "      <td>2017-04-07T00:00:00Z</td>\n",
       "    </tr>\n",
       "    <tr>\n",
       "      <th>9003</th>\n",
       "      <td>2017-06-04</td>\n",
       "      <td>36350096</td>\n",
       "      <td>sku_three_499</td>\n",
       "      <td>499</td>\n",
       "      <td>2017-04-07T00:00:00Z</td>\n",
       "      <td>and</td>\n",
       "      <td>M</td>\n",
       "      <td>USA</td>\n",
       "      <td>23</td>\n",
       "      <td>2017-04-07T00:00:00Z</td>\n",
       "    </tr>\n",
       "    <tr>\n",
       "      <th>9004</th>\n",
       "      <td>2017-07-12</td>\n",
       "      <td>36350096</td>\n",
       "      <td>sku_one_199</td>\n",
       "      <td>199</td>\n",
       "      <td>2017-04-07T00:00:00Z</td>\n",
       "      <td>and</td>\n",
       "      <td>M</td>\n",
       "      <td>USA</td>\n",
       "      <td>23</td>\n",
       "      <td>2017-04-07T00:00:00Z</td>\n",
       "    </tr>\n",
       "    <tr>\n",
       "      <th>9005</th>\n",
       "      <td>2017-08-01</td>\n",
       "      <td>36350096</td>\n",
       "      <td>sku_three_499</td>\n",
       "      <td>499</td>\n",
       "      <td>2017-04-07T00:00:00Z</td>\n",
       "      <td>and</td>\n",
       "      <td>M</td>\n",
       "      <td>USA</td>\n",
       "      <td>23</td>\n",
       "      <td>2017-04-07T00:00:00Z</td>\n",
       "    </tr>\n",
       "  </tbody>\n",
       "</table>\n",
       "<p>9006 rows × 10 columns</p>\n",
       "</div>"
      ],
      "text/plain": [
       "          date_x       uid             sku  price              reg_date  \\\n",
       "0     2017-07-10  41195147   sku_three_499    499  2017-06-26T00:00:00Z   \n",
       "1     2017-07-15  41195147   sku_three_499    499  2017-06-26T00:00:00Z   \n",
       "2     2017-11-12  41195147    sku_four_599    599  2017-06-26T00:00:00Z   \n",
       "3     2017-09-26  91591874     sku_two_299    299  2017-01-05T00:00:00Z   \n",
       "4     2017-12-01  91591874    sku_four_599    599  2017-01-05T00:00:00Z   \n",
       "...          ...       ...             ...    ...                   ...   \n",
       "9001  2017-09-16  63245432    sku_five_899    899  2016-12-04T00:00:00Z   \n",
       "9002  2017-04-21  36350096  sku_seven_1499    499  2017-04-07T00:00:00Z   \n",
       "9003  2017-06-04  36350096   sku_three_499    499  2017-04-07T00:00:00Z   \n",
       "9004  2017-07-12  36350096     sku_one_199    199  2017-04-07T00:00:00Z   \n",
       "9005  2017-08-01  36350096   sku_three_499    499  2017-04-07T00:00:00Z   \n",
       "\n",
       "     device gender country  age                date_y  \n",
       "0       and      M     BRA   17  2017-06-26T00:00:00Z  \n",
       "1       and      M     BRA   17  2017-06-26T00:00:00Z  \n",
       "2       and      M     BRA   17  2017-06-26T00:00:00Z  \n",
       "3       and      M     TUR   17  2017-01-05T00:00:00Z  \n",
       "4       and      M     TUR   17  2017-01-05T00:00:00Z  \n",
       "...     ...    ...     ...  ...                   ...  \n",
       "9001    and      F     FRA   20  2016-12-04T00:00:00Z  \n",
       "9002    and      M     USA   23  2017-04-07T00:00:00Z  \n",
       "9003    and      M     USA   23  2017-04-07T00:00:00Z  \n",
       "9004    and      M     USA   23  2017-04-07T00:00:00Z  \n",
       "9005    and      M     USA   23  2017-04-07T00:00:00Z  \n",
       "\n",
       "[9006 rows x 10 columns]"
      ]
     },
     "execution_count": 9,
     "metadata": {},
     "output_type": "execute_result"
    }
   ],
   "source": [
    "# Merge on the 'uid' field\n",
    "uid_combined_data = app_purchases.merge(customer_data, on=['uid'], how='inner')\n",
    "uid_combined_data"
   ]
  },
  {
   "cell_type": "code",
   "execution_count": 10,
   "id": "f5d272e4",
   "metadata": {},
   "outputs": [
    {
     "data": {
      "text/plain": [
       "9006"
      ]
     },
     "execution_count": 10,
     "metadata": {},
     "output_type": "execute_result"
    }
   ],
   "source": [
    "len(uid_combined_data)"
   ]
  },
  {
   "cell_type": "code",
   "execution_count": 11,
   "id": "cd658f75",
   "metadata": {},
   "outputs": [
    {
     "data": {
      "text/plain": [
       "0"
      ]
     },
     "execution_count": 11,
     "metadata": {},
     "output_type": "execute_result"
    }
   ],
   "source": [
    "# Merge on the 'uid' and 'date' field\n",
    "uid_date_combined_data = app_purchases.merge(customer_data, on=['uid', 'date'], how='inner')\n",
    "len(uid_date_combined_data)"
   ]
  },
  {
   "cell_type": "markdown",
   "id": "b5dba08f",
   "metadata": {},
   "source": [
    "Note our second result returned fewer rows compared to the first one - 35 compared to 9006! This is because there were fewer matches"
   ]
  },
  {
   "cell_type": "markdown",
   "id": "3b7ce26f",
   "metadata": {},
   "source": [
    "## Exploratory Data Analysis of KPIs"
   ]
  },
  {
   "cell_type": "code",
   "execution_count": 12,
   "id": "b3491bc3",
   "metadata": {},
   "outputs": [],
   "source": [
    "purchase_data = app_purchases.merge(customer_data, how='inner', on=['uid'])\n",
    "purchase_data['date'] = purchase_data['date_x']"
   ]
  },
  {
   "cell_type": "code",
   "execution_count": 13,
   "id": "aa57ab04",
   "metadata": {},
   "outputs": [
    {
     "data": {
      "text/plain": [
       "406.77259604707973"
      ]
     },
     "execution_count": 13,
     "metadata": {},
     "output_type": "execute_result"
    }
   ],
   "source": [
    "# Calculate the mean purchase price \n",
    "purchase_price_mean = purchase_data.price.agg('mean')\n",
    "purchase_price_mean"
   ]
  },
  {
   "cell_type": "code",
   "execution_count": 14,
   "id": "d8941b58",
   "metadata": {},
   "outputs": [
    {
     "data": {
      "text/plain": [
       "mean      406.772596\n",
       "median    299.000000\n",
       "Name: price, dtype: float64"
      ]
     },
     "execution_count": 14,
     "metadata": {},
     "output_type": "execute_result"
    }
   ],
   "source": [
    "# Calculate the mean and median purchase price \n",
    "purchase_price_summary = purchase_data.price.agg(['mean', 'median'])\n",
    "purchase_price_summary"
   ]
  },
  {
   "cell_type": "code",
   "execution_count": 15,
   "id": "cb196133",
   "metadata": {},
   "outputs": [
    {
     "data": {
      "text/html": [
       "<div>\n",
       "<style scoped>\n",
       "    .dataframe tbody tr th:only-of-type {\n",
       "        vertical-align: middle;\n",
       "    }\n",
       "\n",
       "    .dataframe tbody tr th {\n",
       "        vertical-align: top;\n",
       "    }\n",
       "\n",
       "    .dataframe thead th {\n",
       "        text-align: right;\n",
       "    }\n",
       "</style>\n",
       "<table border=\"1\" class=\"dataframe\">\n",
       "  <thead>\n",
       "    <tr style=\"text-align: right;\">\n",
       "      <th></th>\n",
       "      <th>price</th>\n",
       "      <th>age</th>\n",
       "    </tr>\n",
       "  </thead>\n",
       "  <tbody>\n",
       "    <tr>\n",
       "      <th>mean</th>\n",
       "      <td>406.772596</td>\n",
       "      <td>23.922274</td>\n",
       "    </tr>\n",
       "    <tr>\n",
       "      <th>median</th>\n",
       "      <td>299.000000</td>\n",
       "      <td>21.000000</td>\n",
       "    </tr>\n",
       "  </tbody>\n",
       "</table>\n",
       "</div>"
      ],
      "text/plain": [
       "             price        age\n",
       "mean    406.772596  23.922274\n",
       "median  299.000000  21.000000"
      ]
     },
     "execution_count": 15,
     "metadata": {},
     "output_type": "execute_result"
    }
   ],
   "source": [
    "# Calculate the mean and median of price and age\n",
    "purchase_summary = purchase_data.agg({'price': ['mean','median'], 'age': ['mean','median']})\n",
    "purchase_summary"
   ]
  },
  {
   "cell_type": "markdown",
   "id": "71edab3e",
   "metadata": {},
   "source": [
    "Notice how the mean is higher than the median? This suggests that we have some users who are making a lot of purchases!"
   ]
  },
  {
   "cell_type": "code",
   "execution_count": 16,
   "id": "78143c17",
   "metadata": {},
   "outputs": [],
   "source": [
    "# Group the data\n",
    "grouped_purchase_data = purchase_data.groupby(by=['device', 'gender'])"
   ]
  },
  {
   "cell_type": "code",
   "execution_count": 17,
   "id": "0882d30a",
   "metadata": {},
   "outputs": [
    {
     "data": {
      "text/html": [
       "<div>\n",
       "<style scoped>\n",
       "    .dataframe tbody tr th:only-of-type {\n",
       "        vertical-align: middle;\n",
       "    }\n",
       "\n",
       "    .dataframe tbody tr th {\n",
       "        vertical-align: top;\n",
       "    }\n",
       "\n",
       "    .dataframe thead tr th {\n",
       "        text-align: left;\n",
       "    }\n",
       "\n",
       "    .dataframe thead tr:last-of-type th {\n",
       "        text-align: right;\n",
       "    }\n",
       "</style>\n",
       "<table border=\"1\" class=\"dataframe\">\n",
       "  <thead>\n",
       "    <tr>\n",
       "      <th></th>\n",
       "      <th></th>\n",
       "      <th colspan=\"3\" halign=\"left\">price</th>\n",
       "    </tr>\n",
       "    <tr>\n",
       "      <th></th>\n",
       "      <th></th>\n",
       "      <th>mean</th>\n",
       "      <th>median</th>\n",
       "      <th>std</th>\n",
       "    </tr>\n",
       "    <tr>\n",
       "      <th>device</th>\n",
       "      <th>gender</th>\n",
       "      <th></th>\n",
       "      <th></th>\n",
       "      <th></th>\n",
       "    </tr>\n",
       "  </thead>\n",
       "  <tbody>\n",
       "    <tr>\n",
       "      <th rowspan=\"2\" valign=\"top\">and</th>\n",
       "      <th>F</th>\n",
       "      <td>400.747504</td>\n",
       "      <td>299</td>\n",
       "      <td>179.984378</td>\n",
       "    </tr>\n",
       "    <tr>\n",
       "      <th>M</th>\n",
       "      <td>416.237308</td>\n",
       "      <td>499</td>\n",
       "      <td>195.001520</td>\n",
       "    </tr>\n",
       "    <tr>\n",
       "      <th rowspan=\"2\" valign=\"top\">iOS</th>\n",
       "      <th>F</th>\n",
       "      <td>404.435330</td>\n",
       "      <td>299</td>\n",
       "      <td>181.524952</td>\n",
       "    </tr>\n",
       "    <tr>\n",
       "      <th>M</th>\n",
       "      <td>405.272401</td>\n",
       "      <td>299</td>\n",
       "      <td>196.843197</td>\n",
       "    </tr>\n",
       "  </tbody>\n",
       "</table>\n",
       "</div>"
      ],
      "text/plain": [
       "                    price                   \n",
       "                     mean median         std\n",
       "device gender                               \n",
       "and    F       400.747504    299  179.984378\n",
       "       M       416.237308    499  195.001520\n",
       "iOS    F       404.435330    299  181.524952\n",
       "       M       405.272401    299  196.843197"
      ]
     },
     "execution_count": 17,
     "metadata": {},
     "output_type": "execute_result"
    }
   ],
   "source": [
    "purchase_summary = grouped_purchase_data.agg({'price': ['mean', 'median', 'std']})\n",
    "purchase_summary"
   ]
  },
  {
   "cell_type": "code",
   "execution_count": 18,
   "id": "b63d5e38",
   "metadata": {},
   "outputs": [],
   "source": [
    "current_date = pd.Timestamp('2018-03-17 00:00:00')"
   ]
  },
  {
   "cell_type": "code",
   "execution_count": 19,
   "id": "b7d3bb54",
   "metadata": {},
   "outputs": [],
   "source": [
    "max_purchase_date = current_date - timedelta(days=28)"
   ]
  },
  {
   "cell_type": "code",
   "execution_count": 20,
   "id": "d6971355",
   "metadata": {},
   "outputs": [],
   "source": [
    "purchase_data['reg_date'] = pd.to_datetime(purchase_data['reg_date']).dt.strftime('%Y-%m-%d %H:%M:%S')\n",
    "purchase_data['reg_date'] = purchase_data['reg_date'].apply(pd.Timestamp)\n",
    "\n",
    "# Filter to only include users who registered before our max date\n",
    "purchase_data_filt = purchase_data[purchase_data.reg_date < max_purchase_date]"
   ]
  },
  {
   "cell_type": "code",
   "execution_count": 21,
   "id": "b8341231",
   "metadata": {},
   "outputs": [
    {
     "data": {
      "text/html": [
       "<div>\n",
       "<style scoped>\n",
       "    .dataframe tbody tr th:only-of-type {\n",
       "        vertical-align: middle;\n",
       "    }\n",
       "\n",
       "    .dataframe tbody tr th {\n",
       "        vertical-align: top;\n",
       "    }\n",
       "\n",
       "    .dataframe thead th {\n",
       "        text-align: right;\n",
       "    }\n",
       "</style>\n",
       "<table border=\"1\" class=\"dataframe\">\n",
       "  <thead>\n",
       "    <tr style=\"text-align: right;\">\n",
       "      <th></th>\n",
       "      <th>date_x</th>\n",
       "      <th>uid</th>\n",
       "      <th>sku</th>\n",
       "      <th>price</th>\n",
       "      <th>reg_date</th>\n",
       "      <th>device</th>\n",
       "      <th>gender</th>\n",
       "      <th>country</th>\n",
       "      <th>age</th>\n",
       "      <th>date_y</th>\n",
       "      <th>date</th>\n",
       "    </tr>\n",
       "  </thead>\n",
       "  <tbody>\n",
       "    <tr>\n",
       "      <th>0</th>\n",
       "      <td>2017-07-10</td>\n",
       "      <td>41195147</td>\n",
       "      <td>sku_three_499</td>\n",
       "      <td>499</td>\n",
       "      <td>2017-06-26</td>\n",
       "      <td>and</td>\n",
       "      <td>M</td>\n",
       "      <td>BRA</td>\n",
       "      <td>17</td>\n",
       "      <td>2017-06-26T00:00:00Z</td>\n",
       "      <td>2017-07-10</td>\n",
       "    </tr>\n",
       "    <tr>\n",
       "      <th>1</th>\n",
       "      <td>2017-07-15</td>\n",
       "      <td>41195147</td>\n",
       "      <td>sku_three_499</td>\n",
       "      <td>499</td>\n",
       "      <td>2017-06-26</td>\n",
       "      <td>and</td>\n",
       "      <td>M</td>\n",
       "      <td>BRA</td>\n",
       "      <td>17</td>\n",
       "      <td>2017-06-26T00:00:00Z</td>\n",
       "      <td>2017-07-15</td>\n",
       "    </tr>\n",
       "    <tr>\n",
       "      <th>19</th>\n",
       "      <td>2016-05-12</td>\n",
       "      <td>22870987</td>\n",
       "      <td>sku_four_599</td>\n",
       "      <td>599</td>\n",
       "      <td>2016-04-20</td>\n",
       "      <td>iOS</td>\n",
       "      <td>F</td>\n",
       "      <td>BRA</td>\n",
       "      <td>26</td>\n",
       "      <td>2016-04-20T00:00:00Z</td>\n",
       "      <td>2016-05-12</td>\n",
       "    </tr>\n",
       "    <tr>\n",
       "      <th>34</th>\n",
       "      <td>2017-01-12</td>\n",
       "      <td>88736154</td>\n",
       "      <td>sku_five_899</td>\n",
       "      <td>899</td>\n",
       "      <td>2017-01-08</td>\n",
       "      <td>and</td>\n",
       "      <td>F</td>\n",
       "      <td>BRA</td>\n",
       "      <td>19</td>\n",
       "      <td>2017-01-08T00:00:00Z</td>\n",
       "      <td>2017-01-12</td>\n",
       "    </tr>\n",
       "    <tr>\n",
       "      <th>92</th>\n",
       "      <td>2016-12-08</td>\n",
       "      <td>45588501</td>\n",
       "      <td>sku_four_599</td>\n",
       "      <td>599</td>\n",
       "      <td>2016-11-27</td>\n",
       "      <td>and</td>\n",
       "      <td>F</td>\n",
       "      <td>USA</td>\n",
       "      <td>49</td>\n",
       "      <td>2016-11-27T00:00:00Z</td>\n",
       "      <td>2016-12-08</td>\n",
       "    </tr>\n",
       "    <tr>\n",
       "      <th>...</th>\n",
       "      <td>...</td>\n",
       "      <td>...</td>\n",
       "      <td>...</td>\n",
       "      <td>...</td>\n",
       "      <td>...</td>\n",
       "      <td>...</td>\n",
       "      <td>...</td>\n",
       "      <td>...</td>\n",
       "      <td>...</td>\n",
       "      <td>...</td>\n",
       "      <td>...</td>\n",
       "    </tr>\n",
       "    <tr>\n",
       "      <th>8963</th>\n",
       "      <td>2017-12-19</td>\n",
       "      <td>72267850</td>\n",
       "      <td>sku_three_499</td>\n",
       "      <td>499</td>\n",
       "      <td>2017-11-28</td>\n",
       "      <td>iOS</td>\n",
       "      <td>F</td>\n",
       "      <td>TUR</td>\n",
       "      <td>22</td>\n",
       "      <td>2017-11-28T00:00:00Z</td>\n",
       "      <td>2017-12-19</td>\n",
       "    </tr>\n",
       "    <tr>\n",
       "      <th>8973</th>\n",
       "      <td>2017-12-20</td>\n",
       "      <td>80500054</td>\n",
       "      <td>sku_four_599</td>\n",
       "      <td>599</td>\n",
       "      <td>2017-12-05</td>\n",
       "      <td>and</td>\n",
       "      <td>M</td>\n",
       "      <td>USA</td>\n",
       "      <td>19</td>\n",
       "      <td>2017-12-05T00:00:00Z</td>\n",
       "      <td>2017-12-20</td>\n",
       "    </tr>\n",
       "    <tr>\n",
       "      <th>8976</th>\n",
       "      <td>2017-05-16</td>\n",
       "      <td>64796589</td>\n",
       "      <td>sku_two_299</td>\n",
       "      <td>299</td>\n",
       "      <td>2017-04-29</td>\n",
       "      <td>and</td>\n",
       "      <td>F</td>\n",
       "      <td>FRA</td>\n",
       "      <td>17</td>\n",
       "      <td>2017-04-29T00:00:00Z</td>\n",
       "      <td>2017-05-16</td>\n",
       "    </tr>\n",
       "    <tr>\n",
       "      <th>8998</th>\n",
       "      <td>2016-12-29</td>\n",
       "      <td>63245432</td>\n",
       "      <td>sku_four_599</td>\n",
       "      <td>599</td>\n",
       "      <td>2016-12-04</td>\n",
       "      <td>and</td>\n",
       "      <td>F</td>\n",
       "      <td>FRA</td>\n",
       "      <td>20</td>\n",
       "      <td>2016-12-04T00:00:00Z</td>\n",
       "      <td>2016-12-29</td>\n",
       "    </tr>\n",
       "    <tr>\n",
       "      <th>9002</th>\n",
       "      <td>2017-04-21</td>\n",
       "      <td>36350096</td>\n",
       "      <td>sku_seven_1499</td>\n",
       "      <td>499</td>\n",
       "      <td>2017-04-07</td>\n",
       "      <td>and</td>\n",
       "      <td>M</td>\n",
       "      <td>USA</td>\n",
       "      <td>23</td>\n",
       "      <td>2017-04-07T00:00:00Z</td>\n",
       "      <td>2017-04-21</td>\n",
       "    </tr>\n",
       "  </tbody>\n",
       "</table>\n",
       "<p>590 rows × 11 columns</p>\n",
       "</div>"
      ],
      "text/plain": [
       "          date_x       uid             sku  price   reg_date device gender  \\\n",
       "0     2017-07-10  41195147   sku_three_499    499 2017-06-26    and      M   \n",
       "1     2017-07-15  41195147   sku_three_499    499 2017-06-26    and      M   \n",
       "19    2016-05-12  22870987    sku_four_599    599 2016-04-20    iOS      F   \n",
       "34    2017-01-12  88736154    sku_five_899    899 2017-01-08    and      F   \n",
       "92    2016-12-08  45588501    sku_four_599    599 2016-11-27    and      F   \n",
       "...          ...       ...             ...    ...        ...    ...    ...   \n",
       "8963  2017-12-19  72267850   sku_three_499    499 2017-11-28    iOS      F   \n",
       "8973  2017-12-20  80500054    sku_four_599    599 2017-12-05    and      M   \n",
       "8976  2017-05-16  64796589     sku_two_299    299 2017-04-29    and      F   \n",
       "8998  2016-12-29  63245432    sku_four_599    599 2016-12-04    and      F   \n",
       "9002  2017-04-21  36350096  sku_seven_1499    499 2017-04-07    and      M   \n",
       "\n",
       "     country  age                date_y        date  \n",
       "0        BRA   17  2017-06-26T00:00:00Z  2017-07-10  \n",
       "1        BRA   17  2017-06-26T00:00:00Z  2017-07-15  \n",
       "19       BRA   26  2016-04-20T00:00:00Z  2016-05-12  \n",
       "34       BRA   19  2017-01-08T00:00:00Z  2017-01-12  \n",
       "92       USA   49  2016-11-27T00:00:00Z  2016-12-08  \n",
       "...      ...  ...                   ...         ...  \n",
       "8963     TUR   22  2017-11-28T00:00:00Z  2017-12-19  \n",
       "8973     USA   19  2017-12-05T00:00:00Z  2017-12-20  \n",
       "8976     FRA   17  2017-04-29T00:00:00Z  2017-05-16  \n",
       "8998     FRA   20  2016-12-04T00:00:00Z  2016-12-29  \n",
       "9002     USA   23  2017-04-07T00:00:00Z  2017-04-21  \n",
       "\n",
       "[590 rows x 11 columns]"
      ]
     },
     "execution_count": 21,
     "metadata": {},
     "output_type": "execute_result"
    }
   ],
   "source": [
    "# Filter to contain only purchases within the first 28 days of registration\n",
    "purchase_data_filt = purchase_data_filt[(purchase_data_filt.date <= \n",
    "                                         purchase_data_filt.reg_date + \n",
    "                                         timedelta(days=28))]\n",
    "purchase_data_filt"
   ]
  },
  {
   "cell_type": "code",
   "execution_count": 22,
   "id": "7f914680",
   "metadata": {},
   "outputs": [
    {
     "data": {
      "text/plain": [
       "414.4237288135593"
      ]
     },
     "execution_count": 22,
     "metadata": {},
     "output_type": "execute_result"
    }
   ],
   "source": [
    "# Output the mean price paid per purchase\n",
    "purchase_data_filt.price.mean()"
   ]
  },
  {
   "cell_type": "markdown",
   "id": "0013e05c",
   "metadata": {},
   "source": [
    "The average price is 414 cents which is below $4.99 it seems that our purchasers tend towards the lower-priced set of options."
   ]
  },
  {
   "cell_type": "markdown",
   "id": "3dd737c1",
   "metadata": {},
   "source": [
    "### Average purchase price by cohort"
   ]
  },
  {
   "cell_type": "code",
   "execution_count": 23,
   "id": "9d4c0241",
   "metadata": {},
   "outputs": [],
   "source": [
    "# Set the max registration date to be one month before today\n",
    "max_reg_date = current_date - timedelta(days=28)\n",
    "\n",
    "# Find the month 1 value\n",
    "month1 = np.where((purchase_data.reg_date < max_reg_date) &\n",
    "                 (purchase_data.date < purchase_data.reg_date + timedelta(days=28)),\n",
    "                  purchase_data.price,\n",
    "                  np.NaN)\n",
    "\n",
    "# Update the value in the DataFrame\n",
    "purchase_data['month1'] = month1"
   ]
  },
  {
   "cell_type": "code",
   "execution_count": 24,
   "id": "876a66bf",
   "metadata": {},
   "outputs": [
    {
     "data": {
      "text/html": [
       "<div>\n",
       "<style scoped>\n",
       "    .dataframe tbody tr th:only-of-type {\n",
       "        vertical-align: middle;\n",
       "    }\n",
       "\n",
       "    .dataframe tbody tr th {\n",
       "        vertical-align: top;\n",
       "    }\n",
       "\n",
       "    .dataframe thead tr th {\n",
       "        text-align: left;\n",
       "    }\n",
       "</style>\n",
       "<table border=\"1\" class=\"dataframe\">\n",
       "  <thead>\n",
       "    <tr>\n",
       "      <th></th>\n",
       "      <th>gender</th>\n",
       "      <th>device</th>\n",
       "      <th colspan=\"2\" halign=\"left\">month1</th>\n",
       "      <th colspan=\"2\" halign=\"left\">price</th>\n",
       "    </tr>\n",
       "    <tr>\n",
       "      <th></th>\n",
       "      <th></th>\n",
       "      <th></th>\n",
       "      <th>mean</th>\n",
       "      <th>median</th>\n",
       "      <th>mean</th>\n",
       "      <th>median</th>\n",
       "    </tr>\n",
       "  </thead>\n",
       "  <tbody>\n",
       "    <tr>\n",
       "      <th>0</th>\n",
       "      <td>F</td>\n",
       "      <td>and</td>\n",
       "      <td>388.204545</td>\n",
       "      <td>299.0</td>\n",
       "      <td>400.747504</td>\n",
       "      <td>299</td>\n",
       "    </tr>\n",
       "    <tr>\n",
       "      <th>1</th>\n",
       "      <td>F</td>\n",
       "      <td>iOS</td>\n",
       "      <td>432.587786</td>\n",
       "      <td>499.0</td>\n",
       "      <td>404.435330</td>\n",
       "      <td>299</td>\n",
       "    </tr>\n",
       "    <tr>\n",
       "      <th>2</th>\n",
       "      <td>M</td>\n",
       "      <td>and</td>\n",
       "      <td>413.705882</td>\n",
       "      <td>399.0</td>\n",
       "      <td>416.237308</td>\n",
       "      <td>499</td>\n",
       "    </tr>\n",
       "    <tr>\n",
       "      <th>3</th>\n",
       "      <td>M</td>\n",
       "      <td>iOS</td>\n",
       "      <td>433.313725</td>\n",
       "      <td>499.0</td>\n",
       "      <td>405.272401</td>\n",
       "      <td>299</td>\n",
       "    </tr>\n",
       "  </tbody>\n",
       "</table>\n",
       "</div>"
      ],
      "text/plain": [
       "  gender device      month1              price       \n",
       "                       mean median        mean median\n",
       "0      F    and  388.204545  299.0  400.747504    299\n",
       "1      F    iOS  432.587786  499.0  404.435330    299\n",
       "2      M    and  413.705882  399.0  416.237308    499\n",
       "3      M    iOS  433.313725  499.0  405.272401    299"
      ]
     },
     "execution_count": 24,
     "metadata": {},
     "output_type": "execute_result"
    }
   ],
   "source": [
    "# Group the data by gender and device\n",
    "purchase_data_upd = purchase_data.groupby(['gender', 'device'], as_index=False)\n",
    "\n",
    "# Aggregate the month1 and price data\n",
    "purchase_summary = purchase_data_upd.agg(\n",
    "                        {'month1': ['mean', 'median'],\n",
    "                        'price': ['mean', 'median']})\n",
    "purchase_summary"
   ]
  },
  {
   "cell_type": "markdown",
   "id": "27ea0ceb",
   "metadata": {},
   "source": [
    "This value seems relatively stable over the past 28 days."
   ]
  },
  {
   "cell_type": "markdown",
   "id": "76d66821",
   "metadata": {},
   "source": [
    "## Visualizing Customer Behavior"
   ]
  },
  {
   "cell_type": "code",
   "execution_count": 25,
   "id": "991eb562",
   "metadata": {},
   "outputs": [],
   "source": [
    "user_purchases = pd.read_csv('first_week_purchase.csv')\n",
    "user_purchases['date'] = pd.to_datetime(user_purchases['date'])"
   ]
  },
  {
   "cell_type": "code",
   "execution_count": 26,
   "id": "faea5490",
   "metadata": {},
   "outputs": [
    {
     "data": {
      "image/png": "[encoded data removed]",
      "text/plain": [
       "<Figure size 432x288 with 1 Axes>"
      ]
     },
     "metadata": {
      "needs_background": "light"
     },
     "output_type": "display_data"
    }
   ],
   "source": [
    "# Group the data and aggregate first_week_purchases\n",
    "user_purchases = user_purchases.groupby(by=['reg_date', 'uid']).agg({'first_week_purchases': ['sum']})\n",
    "\n",
    "# Reset the indexes\n",
    "user_purchases.columns = user_purchases.columns.droplevel(level=1)\n",
    "user_purchases.reset_index(inplace=True)\n",
    "\n",
    "# Find the average number of purchases per day by first-week users\n",
    "user_purchases = user_purchases.groupby(by=['reg_date']).agg({'first_week_purchases': ['mean']})\n",
    "user_purchases.columns = user_purchases.columns.droplevel(level=1)\n",
    "user_purchases.reset_index(inplace=True)\n",
    "\n",
    "# Plot the results \n",
    "user_purchases.plot(x='reg_date', y='first_week_purchases')\n",
    "plt.show()"
   ]
  },
  {
   "cell_type": "markdown",
   "id": "de24fad8",
   "metadata": {},
   "source": [
    " There does indeed seem to be a substantial increase in the average number of first week purchases."
   ]
  },
  {
   "cell_type": "code",
   "execution_count": 27,
   "id": "98b634aa",
   "metadata": {},
   "outputs": [],
   "source": [
    "user_purchases = pd.read_csv('first_week_purchase.csv')\n",
    "user_purchases['date'] = pd.to_datetime(user_purchases['date'])\n",
    "\n",
    "# Group the data and aggregate first_week_purchases\n",
    "user_purchases_country = user_purchases.groupby(by=['reg_date', 'country']).agg({'first_week_purchases': ['mean']})\n",
    "user_purchases_device = user_purchases.groupby(by=['reg_date', 'device']).agg({'first_week_purchases': ['mean']})"
   ]
  },
  {
   "cell_type": "code",
   "execution_count": 28,
   "id": "d00ed40b",
   "metadata": {},
   "outputs": [
    {
     "data": {
      "text/html": [
       "<div>\n",
       "<style scoped>\n",
       "    .dataframe tbody tr th:only-of-type {\n",
       "        vertical-align: middle;\n",
       "    }\n",
       "\n",
       "    .dataframe tbody tr th {\n",
       "        vertical-align: top;\n",
       "    }\n",
       "\n",
       "    .dataframe thead tr th {\n",
       "        text-align: left;\n",
       "    }\n",
       "\n",
       "    .dataframe thead tr:last-of-type th {\n",
       "        text-align: right;\n",
       "    }\n",
       "</style>\n",
       "<table border=\"1\" class=\"dataframe\">\n",
       "  <thead>\n",
       "    <tr>\n",
       "      <th></th>\n",
       "      <th colspan=\"6\" halign=\"left\">first_week_purchases</th>\n",
       "    </tr>\n",
       "    <tr>\n",
       "      <th></th>\n",
       "      <th colspan=\"6\" halign=\"left\">mean</th>\n",
       "    </tr>\n",
       "    <tr>\n",
       "      <th>country</th>\n",
       "      <th>BRA</th>\n",
       "      <th>CAN</th>\n",
       "      <th>DEU</th>\n",
       "      <th>FRA</th>\n",
       "      <th>TUR</th>\n",
       "      <th>USA</th>\n",
       "    </tr>\n",
       "    <tr>\n",
       "      <th>reg_date</th>\n",
       "      <th></th>\n",
       "      <th></th>\n",
       "      <th></th>\n",
       "      <th></th>\n",
       "      <th></th>\n",
       "      <th></th>\n",
       "    </tr>\n",
       "  </thead>\n",
       "  <tbody>\n",
       "    <tr>\n",
       "      <th>2017-06-03</th>\n",
       "      <td>NaN</td>\n",
       "      <td>NaN</td>\n",
       "      <td>NaN</td>\n",
       "      <td>0.000000</td>\n",
       "      <td>NaN</td>\n",
       "      <td>NaN</td>\n",
       "    </tr>\n",
       "    <tr>\n",
       "      <th>2017-06-06</th>\n",
       "      <td>NaN</td>\n",
       "      <td>NaN</td>\n",
       "      <td>NaN</td>\n",
       "      <td>NaN</td>\n",
       "      <td>NaN</td>\n",
       "      <td>0.000000</td>\n",
       "    </tr>\n",
       "    <tr>\n",
       "      <th>2017-06-26</th>\n",
       "      <td>NaN</td>\n",
       "      <td>NaN</td>\n",
       "      <td>NaN</td>\n",
       "      <td>NaN</td>\n",
       "      <td>NaN</td>\n",
       "      <td>0.000000</td>\n",
       "    </tr>\n",
       "    <tr>\n",
       "      <th>2017-06-30</th>\n",
       "      <td>NaN</td>\n",
       "      <td>NaN</td>\n",
       "      <td>NaN</td>\n",
       "      <td>NaN</td>\n",
       "      <td>NaN</td>\n",
       "      <td>0.081081</td>\n",
       "    </tr>\n",
       "    <tr>\n",
       "      <th>2017-07-04</th>\n",
       "      <td>NaN</td>\n",
       "      <td>NaN</td>\n",
       "      <td>NaN</td>\n",
       "      <td>0.130435</td>\n",
       "      <td>NaN</td>\n",
       "      <td>NaN</td>\n",
       "    </tr>\n",
       "    <tr>\n",
       "      <th>2017-07-16</th>\n",
       "      <td>0.200000</td>\n",
       "      <td>NaN</td>\n",
       "      <td>NaN</td>\n",
       "      <td>NaN</td>\n",
       "      <td>NaN</td>\n",
       "      <td>NaN</td>\n",
       "    </tr>\n",
       "    <tr>\n",
       "      <th>2017-07-21</th>\n",
       "      <td>NaN</td>\n",
       "      <td>NaN</td>\n",
       "      <td>0.027778</td>\n",
       "      <td>NaN</td>\n",
       "      <td>NaN</td>\n",
       "      <td>NaN</td>\n",
       "    </tr>\n",
       "    <tr>\n",
       "      <th>2017-07-26</th>\n",
       "      <td>NaN</td>\n",
       "      <td>NaN</td>\n",
       "      <td>0.050000</td>\n",
       "      <td>NaN</td>\n",
       "      <td>NaN</td>\n",
       "      <td>NaN</td>\n",
       "    </tr>\n",
       "    <tr>\n",
       "      <th>2017-08-02</th>\n",
       "      <td>NaN</td>\n",
       "      <td>NaN</td>\n",
       "      <td>NaN</td>\n",
       "      <td>NaN</td>\n",
       "      <td>NaN</td>\n",
       "      <td>0.041667</td>\n",
       "    </tr>\n",
       "    <tr>\n",
       "      <th>2017-08-05</th>\n",
       "      <td>0.142857</td>\n",
       "      <td>NaN</td>\n",
       "      <td>NaN</td>\n",
       "      <td>NaN</td>\n",
       "      <td>NaN</td>\n",
       "      <td>NaN</td>\n",
       "    </tr>\n",
       "    <tr>\n",
       "      <th>2017-08-14</th>\n",
       "      <td>NaN</td>\n",
       "      <td>NaN</td>\n",
       "      <td>NaN</td>\n",
       "      <td>NaN</td>\n",
       "      <td>NaN</td>\n",
       "      <td>0.032787</td>\n",
       "    </tr>\n",
       "    <tr>\n",
       "      <th>2017-08-18</th>\n",
       "      <td>NaN</td>\n",
       "      <td>NaN</td>\n",
       "      <td>0.076923</td>\n",
       "      <td>NaN</td>\n",
       "      <td>NaN</td>\n",
       "      <td>NaN</td>\n",
       "    </tr>\n",
       "    <tr>\n",
       "      <th>2017-08-20</th>\n",
       "      <td>NaN</td>\n",
       "      <td>NaN</td>\n",
       "      <td>NaN</td>\n",
       "      <td>0.085714</td>\n",
       "      <td>NaN</td>\n",
       "      <td>0.000000</td>\n",
       "    </tr>\n",
       "    <tr>\n",
       "      <th>2017-08-29</th>\n",
       "      <td>NaN</td>\n",
       "      <td>NaN</td>\n",
       "      <td>NaN</td>\n",
       "      <td>NaN</td>\n",
       "      <td>NaN</td>\n",
       "      <td>0.000000</td>\n",
       "    </tr>\n",
       "    <tr>\n",
       "      <th>2017-09-04</th>\n",
       "      <td>NaN</td>\n",
       "      <td>NaN</td>\n",
       "      <td>NaN</td>\n",
       "      <td>NaN</td>\n",
       "      <td>NaN</td>\n",
       "      <td>0.000000</td>\n",
       "    </tr>\n",
       "    <tr>\n",
       "      <th>2017-09-07</th>\n",
       "      <td>NaN</td>\n",
       "      <td>NaN</td>\n",
       "      <td>NaN</td>\n",
       "      <td>NaN</td>\n",
       "      <td>NaN</td>\n",
       "      <td>0.045455</td>\n",
       "    </tr>\n",
       "    <tr>\n",
       "      <th>2017-09-14</th>\n",
       "      <td>NaN</td>\n",
       "      <td>NaN</td>\n",
       "      <td>NaN</td>\n",
       "      <td>NaN</td>\n",
       "      <td>NaN</td>\n",
       "      <td>0.100000</td>\n",
       "    </tr>\n",
       "    <tr>\n",
       "      <th>2017-09-18</th>\n",
       "      <td>NaN</td>\n",
       "      <td>NaN</td>\n",
       "      <td>NaN</td>\n",
       "      <td>NaN</td>\n",
       "      <td>NaN</td>\n",
       "      <td>0.000000</td>\n",
       "    </tr>\n",
       "    <tr>\n",
       "      <th>2017-09-23</th>\n",
       "      <td>NaN</td>\n",
       "      <td>NaN</td>\n",
       "      <td>NaN</td>\n",
       "      <td>NaN</td>\n",
       "      <td>NaN</td>\n",
       "      <td>0.052632</td>\n",
       "    </tr>\n",
       "    <tr>\n",
       "      <th>2017-10-03</th>\n",
       "      <td>NaN</td>\n",
       "      <td>NaN</td>\n",
       "      <td>NaN</td>\n",
       "      <td>0.000000</td>\n",
       "      <td>NaN</td>\n",
       "      <td>NaN</td>\n",
       "    </tr>\n",
       "    <tr>\n",
       "      <th>2017-10-06</th>\n",
       "      <td>NaN</td>\n",
       "      <td>NaN</td>\n",
       "      <td>NaN</td>\n",
       "      <td>0.066667</td>\n",
       "      <td>NaN</td>\n",
       "      <td>NaN</td>\n",
       "    </tr>\n",
       "    <tr>\n",
       "      <th>2017-10-18</th>\n",
       "      <td>0.178571</td>\n",
       "      <td>NaN</td>\n",
       "      <td>NaN</td>\n",
       "      <td>NaN</td>\n",
       "      <td>NaN</td>\n",
       "      <td>NaN</td>\n",
       "    </tr>\n",
       "    <tr>\n",
       "      <th>2017-10-27</th>\n",
       "      <td>NaN</td>\n",
       "      <td>NaN</td>\n",
       "      <td>NaN</td>\n",
       "      <td>NaN</td>\n",
       "      <td>0.050000</td>\n",
       "      <td>0.043478</td>\n",
       "    </tr>\n",
       "    <tr>\n",
       "      <th>2017-11-06</th>\n",
       "      <td>0.142857</td>\n",
       "      <td>NaN</td>\n",
       "      <td>NaN</td>\n",
       "      <td>NaN</td>\n",
       "      <td>NaN</td>\n",
       "      <td>NaN</td>\n",
       "    </tr>\n",
       "    <tr>\n",
       "      <th>2017-11-10</th>\n",
       "      <td>0.125000</td>\n",
       "      <td>NaN</td>\n",
       "      <td>NaN</td>\n",
       "      <td>NaN</td>\n",
       "      <td>NaN</td>\n",
       "      <td>NaN</td>\n",
       "    </tr>\n",
       "    <tr>\n",
       "      <th>2017-11-16</th>\n",
       "      <td>NaN</td>\n",
       "      <td>NaN</td>\n",
       "      <td>NaN</td>\n",
       "      <td>NaN</td>\n",
       "      <td>NaN</td>\n",
       "      <td>0.047619</td>\n",
       "    </tr>\n",
       "    <tr>\n",
       "      <th>2017-11-19</th>\n",
       "      <td>0.125000</td>\n",
       "      <td>NaN</td>\n",
       "      <td>NaN</td>\n",
       "      <td>NaN</td>\n",
       "      <td>NaN</td>\n",
       "      <td>NaN</td>\n",
       "    </tr>\n",
       "    <tr>\n",
       "      <th>2017-11-22</th>\n",
       "      <td>NaN</td>\n",
       "      <td>NaN</td>\n",
       "      <td>0.000000</td>\n",
       "      <td>NaN</td>\n",
       "      <td>NaN</td>\n",
       "      <td>0.076923</td>\n",
       "    </tr>\n",
       "    <tr>\n",
       "      <th>2017-11-23</th>\n",
       "      <td>NaN</td>\n",
       "      <td>NaN</td>\n",
       "      <td>NaN</td>\n",
       "      <td>0.095238</td>\n",
       "      <td>NaN</td>\n",
       "      <td>NaN</td>\n",
       "    </tr>\n",
       "    <tr>\n",
       "      <th>2017-11-24</th>\n",
       "      <td>0.100000</td>\n",
       "      <td>NaN</td>\n",
       "      <td>NaN</td>\n",
       "      <td>NaN</td>\n",
       "      <td>0.230769</td>\n",
       "      <td>NaN</td>\n",
       "    </tr>\n",
       "    <tr>\n",
       "      <th>2017-11-25</th>\n",
       "      <td>0.000000</td>\n",
       "      <td>NaN</td>\n",
       "      <td>NaN</td>\n",
       "      <td>NaN</td>\n",
       "      <td>NaN</td>\n",
       "      <td>NaN</td>\n",
       "    </tr>\n",
       "    <tr>\n",
       "      <th>2017-12-11</th>\n",
       "      <td>NaN</td>\n",
       "      <td>NaN</td>\n",
       "      <td>NaN</td>\n",
       "      <td>NaN</td>\n",
       "      <td>NaN</td>\n",
       "      <td>0.000000</td>\n",
       "    </tr>\n",
       "    <tr>\n",
       "      <th>2017-12-16</th>\n",
       "      <td>NaN</td>\n",
       "      <td>NaN</td>\n",
       "      <td>NaN</td>\n",
       "      <td>NaN</td>\n",
       "      <td>NaN</td>\n",
       "      <td>0.071429</td>\n",
       "    </tr>\n",
       "    <tr>\n",
       "      <th>2017-12-21</th>\n",
       "      <td>NaN</td>\n",
       "      <td>0.111111</td>\n",
       "      <td>NaN</td>\n",
       "      <td>NaN</td>\n",
       "      <td>NaN</td>\n",
       "      <td>NaN</td>\n",
       "    </tr>\n",
       "    <tr>\n",
       "      <th>2017-12-24</th>\n",
       "      <td>NaN</td>\n",
       "      <td>NaN</td>\n",
       "      <td>0.117647</td>\n",
       "      <td>NaN</td>\n",
       "      <td>NaN</td>\n",
       "      <td>NaN</td>\n",
       "    </tr>\n",
       "    <tr>\n",
       "      <th>2017-12-26</th>\n",
       "      <td>NaN</td>\n",
       "      <td>NaN</td>\n",
       "      <td>0.250000</td>\n",
       "      <td>NaN</td>\n",
       "      <td>0.083333</td>\n",
       "      <td>NaN</td>\n",
       "    </tr>\n",
       "    <tr>\n",
       "      <th>2017-12-28</th>\n",
       "      <td>NaN</td>\n",
       "      <td>NaN</td>\n",
       "      <td>0.222222</td>\n",
       "      <td>NaN</td>\n",
       "      <td>NaN</td>\n",
       "      <td>NaN</td>\n",
       "    </tr>\n",
       "    <tr>\n",
       "      <th>2017-12-30</th>\n",
       "      <td>NaN</td>\n",
       "      <td>NaN</td>\n",
       "      <td>0.250000</td>\n",
       "      <td>NaN</td>\n",
       "      <td>NaN</td>\n",
       "      <td>NaN</td>\n",
       "    </tr>\n",
       "    <tr>\n",
       "      <th>2017-12-31</th>\n",
       "      <td>NaN</td>\n",
       "      <td>NaN</td>\n",
       "      <td>NaN</td>\n",
       "      <td>NaN</td>\n",
       "      <td>0.125000</td>\n",
       "      <td>NaN</td>\n",
       "    </tr>\n",
       "    <tr>\n",
       "      <th>2018-01-07</th>\n",
       "      <td>0.066667</td>\n",
       "      <td>NaN</td>\n",
       "      <td>NaN</td>\n",
       "      <td>NaN</td>\n",
       "      <td>NaN</td>\n",
       "      <td>NaN</td>\n",
       "    </tr>\n",
       "    <tr>\n",
       "      <th>2018-01-08</th>\n",
       "      <td>NaN</td>\n",
       "      <td>NaN</td>\n",
       "      <td>NaN</td>\n",
       "      <td>NaN</td>\n",
       "      <td>NaN</td>\n",
       "      <td>0.117647</td>\n",
       "    </tr>\n",
       "    <tr>\n",
       "      <th>2018-01-21</th>\n",
       "      <td>NaN</td>\n",
       "      <td>NaN</td>\n",
       "      <td>NaN</td>\n",
       "      <td>NaN</td>\n",
       "      <td>0.333333</td>\n",
       "      <td>0.400000</td>\n",
       "    </tr>\n",
       "    <tr>\n",
       "      <th>2018-01-26</th>\n",
       "      <td>NaN</td>\n",
       "      <td>NaN</td>\n",
       "      <td>NaN</td>\n",
       "      <td>NaN</td>\n",
       "      <td>NaN</td>\n",
       "      <td>0.166667</td>\n",
       "    </tr>\n",
       "    <tr>\n",
       "      <th>2018-01-31</th>\n",
       "      <td>NaN</td>\n",
       "      <td>NaN</td>\n",
       "      <td>NaN</td>\n",
       "      <td>NaN</td>\n",
       "      <td>NaN</td>\n",
       "      <td>0.333333</td>\n",
       "    </tr>\n",
       "    <tr>\n",
       "      <th>2018-02-06</th>\n",
       "      <td>NaN</td>\n",
       "      <td>NaN</td>\n",
       "      <td>NaN</td>\n",
       "      <td>NaN</td>\n",
       "      <td>NaN</td>\n",
       "      <td>0.181818</td>\n",
       "    </tr>\n",
       "    <tr>\n",
       "      <th>2018-02-09</th>\n",
       "      <td>NaN</td>\n",
       "      <td>NaN</td>\n",
       "      <td>NaN</td>\n",
       "      <td>NaN</td>\n",
       "      <td>NaN</td>\n",
       "      <td>0.400000</td>\n",
       "    </tr>\n",
       "    <tr>\n",
       "      <th>2018-02-21</th>\n",
       "      <td>NaN</td>\n",
       "      <td>NaN</td>\n",
       "      <td>0.666667</td>\n",
       "      <td>NaN</td>\n",
       "      <td>NaN</td>\n",
       "      <td>NaN</td>\n",
       "    </tr>\n",
       "    <tr>\n",
       "      <th>2018-02-26</th>\n",
       "      <td>0.500000</td>\n",
       "      <td>NaN</td>\n",
       "      <td>NaN</td>\n",
       "      <td>NaN</td>\n",
       "      <td>NaN</td>\n",
       "      <td>NaN</td>\n",
       "    </tr>\n",
       "    <tr>\n",
       "      <th>2018-02-27</th>\n",
       "      <td>NaN</td>\n",
       "      <td>NaN</td>\n",
       "      <td>NaN</td>\n",
       "      <td>NaN</td>\n",
       "      <td>NaN</td>\n",
       "      <td>0.500000</td>\n",
       "    </tr>\n",
       "    <tr>\n",
       "      <th>2018-03-08</th>\n",
       "      <td>NaN</td>\n",
       "      <td>NaN</td>\n",
       "      <td>NaN</td>\n",
       "      <td>NaN</td>\n",
       "      <td>1.000000</td>\n",
       "      <td>NaN</td>\n",
       "    </tr>\n",
       "    <tr>\n",
       "      <th>2018-03-09</th>\n",
       "      <td>NaN</td>\n",
       "      <td>NaN</td>\n",
       "      <td>NaN</td>\n",
       "      <td>NaN</td>\n",
       "      <td>NaN</td>\n",
       "      <td>1.000000</td>\n",
       "    </tr>\n",
       "  </tbody>\n",
       "</table>\n",
       "</div>"
      ],
      "text/plain": [
       "           first_week_purchases                                          \\\n",
       "                           mean                                           \n",
       "country                     BRA       CAN       DEU       FRA       TUR   \n",
       "reg_date                                                                  \n",
       "2017-06-03                  NaN       NaN       NaN  0.000000       NaN   \n",
       "2017-06-06                  NaN       NaN       NaN       NaN       NaN   \n",
       "2017-06-26                  NaN       NaN       NaN       NaN       NaN   \n",
       "2017-06-30                  NaN       NaN       NaN       NaN       NaN   \n",
       "2017-07-04                  NaN       NaN       NaN  0.130435       NaN   \n",
       "2017-07-16             0.200000       NaN       NaN       NaN       NaN   \n",
       "2017-07-21                  NaN       NaN  0.027778       NaN       NaN   \n",
       "2017-07-26                  NaN       NaN  0.050000       NaN       NaN   \n",
       "2017-08-02                  NaN       NaN       NaN       NaN       NaN   \n",
       "2017-08-05             0.142857       NaN       NaN       NaN       NaN   \n",
       "2017-08-14                  NaN       NaN       NaN       NaN       NaN   \n",
       "2017-08-18                  NaN       NaN  0.076923       NaN       NaN   \n",
       "2017-08-20                  NaN       NaN       NaN  0.085714       NaN   \n",
       "2017-08-29                  NaN       NaN       NaN       NaN       NaN   \n",
       "2017-09-04                  NaN       NaN       NaN       NaN       NaN   \n",
       "2017-09-07                  NaN       NaN       NaN       NaN       NaN   \n",
       "2017-09-14                  NaN       NaN       NaN       NaN       NaN   \n",
       "2017-09-18                  NaN       NaN       NaN       NaN       NaN   \n",
       "2017-09-23                  NaN       NaN       NaN       NaN       NaN   \n",
       "2017-10-03                  NaN       NaN       NaN  0.000000       NaN   \n",
       "2017-10-06                  NaN       NaN       NaN  0.066667       NaN   \n",
       "2017-10-18             0.178571       NaN       NaN       NaN       NaN   \n",
       "2017-10-27                  NaN       NaN       NaN       NaN  0.050000   \n",
       "2017-11-06             0.142857       NaN       NaN       NaN       NaN   \n",
       "2017-11-10             0.125000       NaN       NaN       NaN       NaN   \n",
       "2017-11-16                  NaN       NaN       NaN       NaN       NaN   \n",
       "2017-11-19             0.125000       NaN       NaN       NaN       NaN   \n",
       "2017-11-22                  NaN       NaN  0.000000       NaN       NaN   \n",
       "2017-11-23                  NaN       NaN       NaN  0.095238       NaN   \n",
       "2017-11-24             0.100000       NaN       NaN       NaN  0.230769   \n",
       "2017-11-25             0.000000       NaN       NaN       NaN       NaN   \n",
       "2017-12-11                  NaN       NaN       NaN       NaN       NaN   \n",
       "2017-12-16                  NaN       NaN       NaN       NaN       NaN   \n",
       "2017-12-21                  NaN  0.111111       NaN       NaN       NaN   \n",
       "2017-12-24                  NaN       NaN  0.117647       NaN       NaN   \n",
       "2017-12-26                  NaN       NaN  0.250000       NaN  0.083333   \n",
       "2017-12-28                  NaN       NaN  0.222222       NaN       NaN   \n",
       "2017-12-30                  NaN       NaN  0.250000       NaN       NaN   \n",
       "2017-12-31                  NaN       NaN       NaN       NaN  0.125000   \n",
       "2018-01-07             0.066667       NaN       NaN       NaN       NaN   \n",
       "2018-01-08                  NaN       NaN       NaN       NaN       NaN   \n",
       "2018-01-21                  NaN       NaN       NaN       NaN  0.333333   \n",
       "2018-01-26                  NaN       NaN       NaN       NaN       NaN   \n",
       "2018-01-31                  NaN       NaN       NaN       NaN       NaN   \n",
       "2018-02-06                  NaN       NaN       NaN       NaN       NaN   \n",
       "2018-02-09                  NaN       NaN       NaN       NaN       NaN   \n",
       "2018-02-21                  NaN       NaN  0.666667       NaN       NaN   \n",
       "2018-02-26             0.500000       NaN       NaN       NaN       NaN   \n",
       "2018-02-27                  NaN       NaN       NaN       NaN       NaN   \n",
       "2018-03-08                  NaN       NaN       NaN       NaN  1.000000   \n",
       "2018-03-09                  NaN       NaN       NaN       NaN       NaN   \n",
       "\n",
       "                      \n",
       "                      \n",
       "country          USA  \n",
       "reg_date              \n",
       "2017-06-03       NaN  \n",
       "2017-06-06  0.000000  \n",
       "2017-06-26  0.000000  \n",
       "2017-06-30  0.081081  \n",
       "2017-07-04       NaN  \n",
       "2017-07-16       NaN  \n",
       "2017-07-21       NaN  \n",
       "2017-07-26       NaN  \n",
       "2017-08-02  0.041667  \n",
       "2017-08-05       NaN  \n",
       "2017-08-14  0.032787  \n",
       "2017-08-18       NaN  \n",
       "2017-08-20  0.000000  \n",
       "2017-08-29  0.000000  \n",
       "2017-09-04  0.000000  \n",
       "2017-09-07  0.045455  \n",
       "2017-09-14  0.100000  \n",
       "2017-09-18  0.000000  \n",
       "2017-09-23  0.052632  \n",
       "2017-10-03       NaN  \n",
       "2017-10-06       NaN  \n",
       "2017-10-18       NaN  \n",
       "2017-10-27  0.043478  \n",
       "2017-11-06       NaN  \n",
       "2017-11-10       NaN  \n",
       "2017-11-16  0.047619  \n",
       "2017-11-19       NaN  \n",
       "2017-11-22  0.076923  \n",
       "2017-11-23       NaN  \n",
       "2017-11-24       NaN  \n",
       "2017-11-25       NaN  \n",
       "2017-12-11  0.000000  \n",
       "2017-12-16  0.071429  \n",
       "2017-12-21       NaN  \n",
       "2017-12-24       NaN  \n",
       "2017-12-26       NaN  \n",
       "2017-12-28       NaN  \n",
       "2017-12-30       NaN  \n",
       "2017-12-31       NaN  \n",
       "2018-01-07       NaN  \n",
       "2018-01-08  0.117647  \n",
       "2018-01-21  0.400000  \n",
       "2018-01-26  0.166667  \n",
       "2018-01-31  0.333333  \n",
       "2018-02-06  0.181818  \n",
       "2018-02-09  0.400000  \n",
       "2018-02-21       NaN  \n",
       "2018-02-26       NaN  \n",
       "2018-02-27  0.500000  \n",
       "2018-03-08       NaN  \n",
       "2018-03-09  1.000000  "
      ]
     },
     "execution_count": 28,
     "metadata": {},
     "output_type": "execute_result"
    }
   ],
   "source": [
    "# Pivot the data\n",
    "country_pivot = pd.pivot_table(user_purchases_country, values=['first_week_purchases'], \n",
    "                               columns=['country'], index=['reg_date'])\n",
    "country_pivot"
   ]
  },
  {
   "cell_type": "code",
   "execution_count": 29,
   "id": "1cdde5e1",
   "metadata": {},
   "outputs": [
    {
     "data": {
      "text/html": [
       "<div>\n",
       "<style scoped>\n",
       "    .dataframe tbody tr th:only-of-type {\n",
       "        vertical-align: middle;\n",
       "    }\n",
       "\n",
       "    .dataframe tbody tr th {\n",
       "        vertical-align: top;\n",
       "    }\n",
       "\n",
       "    .dataframe thead tr th {\n",
       "        text-align: left;\n",
       "    }\n",
       "\n",
       "    .dataframe thead tr:last-of-type th {\n",
       "        text-align: right;\n",
       "    }\n",
       "</style>\n",
       "<table border=\"1\" class=\"dataframe\">\n",
       "  <thead>\n",
       "    <tr>\n",
       "      <th></th>\n",
       "      <th colspan=\"2\" halign=\"left\">first_week_purchases</th>\n",
       "    </tr>\n",
       "    <tr>\n",
       "      <th></th>\n",
       "      <th colspan=\"2\" halign=\"left\">mean</th>\n",
       "    </tr>\n",
       "    <tr>\n",
       "      <th>device</th>\n",
       "      <th>and</th>\n",
       "      <th>iOS</th>\n",
       "    </tr>\n",
       "    <tr>\n",
       "      <th>reg_date</th>\n",
       "      <th></th>\n",
       "      <th></th>\n",
       "    </tr>\n",
       "  </thead>\n",
       "  <tbody>\n",
       "    <tr>\n",
       "      <th>2017-06-03</th>\n",
       "      <td>NaN</td>\n",
       "      <td>0.000000</td>\n",
       "    </tr>\n",
       "    <tr>\n",
       "      <th>2017-06-06</th>\n",
       "      <td>NaN</td>\n",
       "      <td>0.000000</td>\n",
       "    </tr>\n",
       "    <tr>\n",
       "      <th>2017-06-26</th>\n",
       "      <td>NaN</td>\n",
       "      <td>0.000000</td>\n",
       "    </tr>\n",
       "    <tr>\n",
       "      <th>2017-06-30</th>\n",
       "      <td>NaN</td>\n",
       "      <td>0.081081</td>\n",
       "    </tr>\n",
       "    <tr>\n",
       "      <th>2017-07-04</th>\n",
       "      <td>NaN</td>\n",
       "      <td>0.130435</td>\n",
       "    </tr>\n",
       "    <tr>\n",
       "      <th>2017-07-16</th>\n",
       "      <td>NaN</td>\n",
       "      <td>0.200000</td>\n",
       "    </tr>\n",
       "    <tr>\n",
       "      <th>2017-07-21</th>\n",
       "      <td>NaN</td>\n",
       "      <td>0.027778</td>\n",
       "    </tr>\n",
       "    <tr>\n",
       "      <th>2017-07-26</th>\n",
       "      <td>NaN</td>\n",
       "      <td>0.050000</td>\n",
       "    </tr>\n",
       "    <tr>\n",
       "      <th>2017-08-02</th>\n",
       "      <td>0.041667</td>\n",
       "      <td>NaN</td>\n",
       "    </tr>\n",
       "    <tr>\n",
       "      <th>2017-08-05</th>\n",
       "      <td>0.142857</td>\n",
       "      <td>NaN</td>\n",
       "    </tr>\n",
       "    <tr>\n",
       "      <th>2017-08-14</th>\n",
       "      <td>0.031250</td>\n",
       "      <td>0.034483</td>\n",
       "    </tr>\n",
       "    <tr>\n",
       "      <th>2017-08-18</th>\n",
       "      <td>NaN</td>\n",
       "      <td>0.076923</td>\n",
       "    </tr>\n",
       "    <tr>\n",
       "      <th>2017-08-20</th>\n",
       "      <td>0.000000</td>\n",
       "      <td>0.085714</td>\n",
       "    </tr>\n",
       "    <tr>\n",
       "      <th>2017-08-29</th>\n",
       "      <td>0.000000</td>\n",
       "      <td>NaN</td>\n",
       "    </tr>\n",
       "    <tr>\n",
       "      <th>2017-09-04</th>\n",
       "      <td>0.000000</td>\n",
       "      <td>NaN</td>\n",
       "    </tr>\n",
       "    <tr>\n",
       "      <th>2017-09-07</th>\n",
       "      <td>NaN</td>\n",
       "      <td>0.045455</td>\n",
       "    </tr>\n",
       "    <tr>\n",
       "      <th>2017-09-14</th>\n",
       "      <td>0.100000</td>\n",
       "      <td>NaN</td>\n",
       "    </tr>\n",
       "    <tr>\n",
       "      <th>2017-09-18</th>\n",
       "      <td>NaN</td>\n",
       "      <td>0.000000</td>\n",
       "    </tr>\n",
       "    <tr>\n",
       "      <th>2017-09-23</th>\n",
       "      <td>0.052632</td>\n",
       "      <td>NaN</td>\n",
       "    </tr>\n",
       "    <tr>\n",
       "      <th>2017-10-03</th>\n",
       "      <td>0.000000</td>\n",
       "      <td>NaN</td>\n",
       "    </tr>\n",
       "    <tr>\n",
       "      <th>2017-10-06</th>\n",
       "      <td>NaN</td>\n",
       "      <td>0.066667</td>\n",
       "    </tr>\n",
       "    <tr>\n",
       "      <th>2017-10-18</th>\n",
       "      <td>NaN</td>\n",
       "      <td>0.178571</td>\n",
       "    </tr>\n",
       "    <tr>\n",
       "      <th>2017-10-27</th>\n",
       "      <td>NaN</td>\n",
       "      <td>0.046512</td>\n",
       "    </tr>\n",
       "    <tr>\n",
       "      <th>2017-11-06</th>\n",
       "      <td>NaN</td>\n",
       "      <td>0.142857</td>\n",
       "    </tr>\n",
       "    <tr>\n",
       "      <th>2017-11-10</th>\n",
       "      <td>0.125000</td>\n",
       "      <td>NaN</td>\n",
       "    </tr>\n",
       "    <tr>\n",
       "      <th>2017-11-16</th>\n",
       "      <td>0.047619</td>\n",
       "      <td>NaN</td>\n",
       "    </tr>\n",
       "    <tr>\n",
       "      <th>2017-11-19</th>\n",
       "      <td>NaN</td>\n",
       "      <td>0.125000</td>\n",
       "    </tr>\n",
       "    <tr>\n",
       "      <th>2017-11-22</th>\n",
       "      <td>0.076923</td>\n",
       "      <td>0.000000</td>\n",
       "    </tr>\n",
       "    <tr>\n",
       "      <th>2017-11-23</th>\n",
       "      <td>0.095238</td>\n",
       "      <td>NaN</td>\n",
       "    </tr>\n",
       "    <tr>\n",
       "      <th>2017-11-24</th>\n",
       "      <td>0.230769</td>\n",
       "      <td>0.100000</td>\n",
       "    </tr>\n",
       "    <tr>\n",
       "      <th>2017-11-25</th>\n",
       "      <td>NaN</td>\n",
       "      <td>0.000000</td>\n",
       "    </tr>\n",
       "    <tr>\n",
       "      <th>2017-12-11</th>\n",
       "      <td>NaN</td>\n",
       "      <td>0.000000</td>\n",
       "    </tr>\n",
       "    <tr>\n",
       "      <th>2017-12-16</th>\n",
       "      <td>NaN</td>\n",
       "      <td>0.071429</td>\n",
       "    </tr>\n",
       "    <tr>\n",
       "      <th>2017-12-21</th>\n",
       "      <td>0.111111</td>\n",
       "      <td>NaN</td>\n",
       "    </tr>\n",
       "    <tr>\n",
       "      <th>2017-12-24</th>\n",
       "      <td>0.117647</td>\n",
       "      <td>NaN</td>\n",
       "    </tr>\n",
       "    <tr>\n",
       "      <th>2017-12-26</th>\n",
       "      <td>0.250000</td>\n",
       "      <td>0.083333</td>\n",
       "    </tr>\n",
       "    <tr>\n",
       "      <th>2017-12-28</th>\n",
       "      <td>NaN</td>\n",
       "      <td>0.222222</td>\n",
       "    </tr>\n",
       "    <tr>\n",
       "      <th>2017-12-30</th>\n",
       "      <td>0.250000</td>\n",
       "      <td>NaN</td>\n",
       "    </tr>\n",
       "    <tr>\n",
       "      <th>2017-12-31</th>\n",
       "      <td>0.125000</td>\n",
       "      <td>NaN</td>\n",
       "    </tr>\n",
       "    <tr>\n",
       "      <th>2018-01-07</th>\n",
       "      <td>NaN</td>\n",
       "      <td>0.066667</td>\n",
       "    </tr>\n",
       "    <tr>\n",
       "      <th>2018-01-08</th>\n",
       "      <td>0.117647</td>\n",
       "      <td>NaN</td>\n",
       "    </tr>\n",
       "    <tr>\n",
       "      <th>2018-01-21</th>\n",
       "      <td>0.400000</td>\n",
       "      <td>0.333333</td>\n",
       "    </tr>\n",
       "    <tr>\n",
       "      <th>2018-01-26</th>\n",
       "      <td>0.166667</td>\n",
       "      <td>NaN</td>\n",
       "    </tr>\n",
       "    <tr>\n",
       "      <th>2018-01-31</th>\n",
       "      <td>0.333333</td>\n",
       "      <td>NaN</td>\n",
       "    </tr>\n",
       "    <tr>\n",
       "      <th>2018-02-06</th>\n",
       "      <td>NaN</td>\n",
       "      <td>0.181818</td>\n",
       "    </tr>\n",
       "    <tr>\n",
       "      <th>2018-02-09</th>\n",
       "      <td>NaN</td>\n",
       "      <td>0.400000</td>\n",
       "    </tr>\n",
       "    <tr>\n",
       "      <th>2018-02-21</th>\n",
       "      <td>NaN</td>\n",
       "      <td>0.666667</td>\n",
       "    </tr>\n",
       "    <tr>\n",
       "      <th>2018-02-26</th>\n",
       "      <td>NaN</td>\n",
       "      <td>0.500000</td>\n",
       "    </tr>\n",
       "    <tr>\n",
       "      <th>2018-02-27</th>\n",
       "      <td>NaN</td>\n",
       "      <td>0.500000</td>\n",
       "    </tr>\n",
       "    <tr>\n",
       "      <th>2018-03-08</th>\n",
       "      <td>1.000000</td>\n",
       "      <td>NaN</td>\n",
       "    </tr>\n",
       "    <tr>\n",
       "      <th>2018-03-09</th>\n",
       "      <td>1.000000</td>\n",
       "      <td>NaN</td>\n",
       "    </tr>\n",
       "  </tbody>\n",
       "</table>\n",
       "</div>"
      ],
      "text/plain": [
       "           first_week_purchases          \n",
       "                           mean          \n",
       "device                      and       iOS\n",
       "reg_date                                 \n",
       "2017-06-03                  NaN  0.000000\n",
       "2017-06-06                  NaN  0.000000\n",
       "2017-06-26                  NaN  0.000000\n",
       "2017-06-30                  NaN  0.081081\n",
       "2017-07-04                  NaN  0.130435\n",
       "2017-07-16                  NaN  0.200000\n",
       "2017-07-21                  NaN  0.027778\n",
       "2017-07-26                  NaN  0.050000\n",
       "2017-08-02             0.041667       NaN\n",
       "2017-08-05             0.142857       NaN\n",
       "2017-08-14             0.031250  0.034483\n",
       "2017-08-18                  NaN  0.076923\n",
       "2017-08-20             0.000000  0.085714\n",
       "2017-08-29             0.000000       NaN\n",
       "2017-09-04             0.000000       NaN\n",
       "2017-09-07                  NaN  0.045455\n",
       "2017-09-14             0.100000       NaN\n",
       "2017-09-18                  NaN  0.000000\n",
       "2017-09-23             0.052632       NaN\n",
       "2017-10-03             0.000000       NaN\n",
       "2017-10-06                  NaN  0.066667\n",
       "2017-10-18                  NaN  0.178571\n",
       "2017-10-27                  NaN  0.046512\n",
       "2017-11-06                  NaN  0.142857\n",
       "2017-11-10             0.125000       NaN\n",
       "2017-11-16             0.047619       NaN\n",
       "2017-11-19                  NaN  0.125000\n",
       "2017-11-22             0.076923  0.000000\n",
       "2017-11-23             0.095238       NaN\n",
       "2017-11-24             0.230769  0.100000\n",
       "2017-11-25                  NaN  0.000000\n",
       "2017-12-11                  NaN  0.000000\n",
       "2017-12-16                  NaN  0.071429\n",
       "2017-12-21             0.111111       NaN\n",
       "2017-12-24             0.117647       NaN\n",
       "2017-12-26             0.250000  0.083333\n",
       "2017-12-28                  NaN  0.222222\n",
       "2017-12-30             0.250000       NaN\n",
       "2017-12-31             0.125000       NaN\n",
       "2018-01-07                  NaN  0.066667\n",
       "2018-01-08             0.117647       NaN\n",
       "2018-01-21             0.400000  0.333333\n",
       "2018-01-26             0.166667       NaN\n",
       "2018-01-31             0.333333       NaN\n",
       "2018-02-06                  NaN  0.181818\n",
       "2018-02-09                  NaN  0.400000\n",
       "2018-02-21                  NaN  0.666667\n",
       "2018-02-26                  NaN  0.500000\n",
       "2018-02-27                  NaN  0.500000\n",
       "2018-03-08             1.000000       NaN\n",
       "2018-03-09             1.000000       NaN"
      ]
     },
     "execution_count": 29,
     "metadata": {},
     "output_type": "execute_result"
    }
   ],
   "source": [
    "device_pivot = pd.pivot_table(user_purchases_device, values=['first_week_purchases'], columns=['device'], index=['reg_date'])\n",
    "device_pivot"
   ]
  },
  {
   "cell_type": "markdown",
   "id": "ffab269f",
   "metadata": {},
   "source": [
    "Having the data in this form is not very conducive to examining trends on its own."
   ]
  },
  {
   "cell_type": "code",
   "execution_count": 30,
   "id": "91b61a6f",
   "metadata": {},
   "outputs": [
    {
     "data": {
      "image/png": "[encoded data removed]",
      "text/plain": [
       "<Figure size 432x288 with 1 Axes>"
      ]
     },
     "metadata": {
      "needs_background": "light"
     },
     "output_type": "display_data"
    }
   ],
   "source": [
    "country_pivot = pd.read_csv('https://docs.google.com/spreadsheets/d/e/2PACX-1vTLCu-qp6h8-z1aUQL2r-z_nEAHjoHSDJAhs_kng19PA8ie7ECa4S8iocpJh2CuuDc_xcZ5m952LzMG/pub?gid=1551934107&single=true&output=csv')\n",
    "\n",
    "# Plot the average first week purchases for each country by registration date\n",
    "country_pivot.plot(x='reg_date', y=['USA', 'CAN', 'FRA', 'BRA', 'TUR', 'DEU'])\n",
    "plt.xticks(rotation = 90)\n",
    "plt.show()"
   ]
  },
  {
   "cell_type": "code",
   "execution_count": 31,
   "id": "f2cf9a8d",
   "metadata": {},
   "outputs": [
    {
     "data": {
      "image/png": "[encoded data removed]",
      "text/plain": [
       "<Figure size 432x288 with 1 Axes>"
      ]
     },
     "metadata": {
      "needs_background": "light"
     },
     "output_type": "display_data"
    }
   ],
   "source": [
    "device_pivot = pd.read_csv('https://docs.google.com/spreadsheets/d/e/2PACX-1vTLCu-qp6h8-z1aUQL2r-z_nEAHjoHSDJAhs_kng19PA8ie7ECa4S8iocpJh2CuuDc_xcZ5m952LzMG/pub?gid=312092028&single=true&output=csv')\n",
    "\n",
    "# Plot the average first week purchases for each device by registration date\n",
    "device_pivot.plot(x='reg_date', y=['and', 'iOS'])\n",
    "plt.xticks(rotation = 90)\n",
    "plt.show()"
   ]
  },
  {
   "cell_type": "code",
   "execution_count": 32,
   "id": "e513bce9",
   "metadata": {},
   "outputs": [],
   "source": [
    "daily_revenue = pd.read_csv('daily_revenue.csv')"
   ]
  },
  {
   "cell_type": "code",
   "execution_count": 33,
   "id": "93533108",
   "metadata": {},
   "outputs": [],
   "source": [
    "# Compute 7_day_rev\n",
    "daily_revenue['7_day_rev'] = daily_revenue.revenue.rolling(window=7, center=False).mean()\n",
    "\n",
    "# Compute 28 days revenue\n",
    "daily_revenue['28_day_rev'] = daily_revenue.revenue.rolling(window=28, center=False).mean()\n",
    "\n",
    "# Compute 365 days revenue\n",
    "daily_revenue['365_day_rev'] = daily_revenue.revenue.rolling(window=365, center=False).mean()"
   ]
  },
  {
   "cell_type": "code",
   "execution_count": 34,
   "id": "bad8d7ad",
   "metadata": {},
   "outputs": [
    {
     "data": {
      "image/png": "[encoded data removed]",
      "text/plain": [
       "<Figure size 432x288 with 1 Axes>"
      ]
     },
     "metadata": {
      "needs_background": "light"
     },
     "output_type": "display_data"
    }
   ],
   "source": [
    "# Plot date, and revenue, along with the 3 rolling functions (in order)    \n",
    "daily_revenue.plot(x='date', y=['revenue','7_day_rev', '28_day_rev', '365_day_rev'])\n",
    "plt.xticks(rotation = 90)\n",
    "plt.show()"
   ]
  },
  {
   "cell_type": "markdown",
   "id": "49f9fce5",
   "metadata": {},
   "source": [
    "Notice that while there is a lot of seasonality, our revenue seems to be somewhat flat over this time period."
   ]
  },
  {
   "cell_type": "code",
   "execution_count": 35,
   "id": "bf7627a0",
   "metadata": {},
   "outputs": [],
   "source": [
    "# Calculate 'small_scale'\n",
    "daily_revenue['small_scale'] = daily_revenue.revenue.ewm(span=10).mean()\n",
    "\n",
    "# Median_Scale\n",
    "daily_revenue['medium_scale'] = daily_revenue.revenue.ewm(span=100).mean()\n",
    "\n",
    "# Larger_Scale\n",
    "daily_revenue['large_scale'] = daily_revenue.revenue.ewm(span=500).mean()"
   ]
  },
  {
   "cell_type": "code",
   "execution_count": 36,
   "id": "9cb481ab",
   "metadata": {},
   "outputs": [
    {
     "data": {
      "image/png": "[encoded data removed]",
      "text/plain": [
       "<Figure size 432x288 with 1 Axes>"
      ]
     },
     "metadata": {
      "needs_background": "light"
     },
     "output_type": "display_data"
    }
   ],
   "source": [
    "# Plot the scales\n",
    "daily_revenue.plot(x = 'date', y =['revenue','small_scale', 'medium_scale', 'large_scale'])\n",
    "plt.xticks(rotation = 90)\n",
    "plt.show()"
   ]
  },
  {
   "cell_type": "markdown",
   "id": "bce661f6",
   "metadata": {},
   "source": [
    "Note that the medium window strikes the right balance. Revenue seems to be growing in this product so it must not be the cause of the overall flat revenue trend!"
   ]
  },
  {
   "cell_type": "code",
   "execution_count": 37,
   "id": "a275c47a",
   "metadata": {},
   "outputs": [],
   "source": [
    "user_revenue = pd.read_csv('user_revenue.csv')\n",
    "\n",
    "# Pivot user_revenue\n",
    "pivoted_data = pd.pivot_table(user_revenue, values='revenue', columns=['device', 'gender'], index='month')"
   ]
  },
  {
   "cell_type": "code",
   "execution_count": 38,
   "id": "46e530e1",
   "metadata": {},
   "outputs": [],
   "source": [
    "# Remove the first and last row of the DataFrame once pivoted \n",
    "# to prevent discontinuities from distorting the result.\n",
    "pivoted_data = pivoted_data[1:(len(pivoted_data) -1 )]"
   ]
  },
  {
   "cell_type": "code",
   "execution_count": 39,
   "id": "1ce1024f",
   "metadata": {},
   "outputs": [
    {
     "data": {
      "image/png": "[encoded data removed]",
      "text/plain": [
       "<Figure size 432x288 with 1 Axes>"
      ]
     },
     "metadata": {
      "needs_background": "light"
     },
     "output_type": "display_data"
    }
   ],
   "source": [
    "# plot pivoted_data\n",
    "pivoted_data.plot()\n",
    "plt.xticks(rotation = 90)\n",
    "plt.show()"
   ]
  },
  {
   "cell_type": "markdown",
   "id": "f2a05b0d",
   "metadata": {},
   "source": [
    "From this view, it seems like our aggregate revenue is fairly stable, so the changes are most likely not hurting revenue."
   ]
  },
  {
   "cell_type": "markdown",
   "id": "fb80edb3",
   "metadata": {},
   "source": [
    "## A/B Testing\n",
    "\n",
    "### calculate revenue per user-day, with user-day as the experimental unit.\n"
   ]
  },
  {
   "cell_type": "code",
   "execution_count": 40,
   "id": "edaa4b1e",
   "metadata": {},
   "outputs": [],
   "source": [
    "# Extract the ‘day’ value from the date timestamp\n",
    "purchase_data['date'] = pd.to_datetime(purchase_data['date'])\n",
    "\n",
    "# Round our timestamp to 'day'\n",
    "purchase_data.date = purchase_data.date.dt.floor('d')"
   ]
  },
  {
   "cell_type": "code",
   "execution_count": 41,
   "id": "01f1afd7",
   "metadata": {},
   "outputs": [],
   "source": [
    "# Replace the NaN purchase_data.price values with 0\n",
    "# replace the NaN its to make calculation easier\n",
    "purchase_data.price = np.where(np.isnan(purchase_data.price), 0, purchase_data.price)"
   ]
  },
  {
   "cell_type": "code",
   "execution_count": 42,
   "id": "ee6ef9c1",
   "metadata": {},
   "outputs": [
    {
     "data": {
      "text/plain": [
       "407.95033407572384"
      ]
     },
     "execution_count": 42,
     "metadata": {},
     "output_type": "execute_result"
    }
   ],
   "source": [
    "# Agg the data 'uid' and 'date'\n",
    "purchase_agg_data = purchase_data.groupby(['uid','date'], as_index=False)\n",
    "revenue_user_day = purchase_agg_data.price.sum()\n",
    "\n",
    "# Calculate average\n",
    "revenue_user_day = revenue_user_day.price.mean()\n",
    "revenue_user_day"
   ]
  },
  {
   "cell_type": "markdown",
   "id": "d92dea0c",
   "metadata": {},
   "source": [
    "### A/B test prepare"
   ]
  },
  {
   "cell_type": "code",
   "execution_count": 43,
   "id": "5ca3f1d6",
   "metadata": {},
   "outputs": [],
   "source": [
    "# Load data\n",
    "data_demographic = pd.read_csv('user_demographics_paywall.csv')\n",
    "paywall_views = pd.read_csv('paywall_views.csv')"
   ]
  },
  {
   "cell_type": "code",
   "execution_count": 44,
   "id": "e94ba9f2",
   "metadata": {},
   "outputs": [],
   "source": [
    "# Merge the data using join with an 'inner', the result \n",
    "# to only include users who appear in both and will remove \n",
    "# everyone who did not view a paywall, which is what we want in this scenario.\n",
    "\n",
    "# Merge the datasets and calculate the per day metrics \n",
    "purchase_data = data_demographic.merge(paywall_views, how='inner', on=['uid'])\n",
    "purchase_data['date'] = pd.to_datetime(purchase_data['reg_date'])\n",
    "purchase_data.date = purchase_data.date.dt.floor('d')"
   ]
  },
  {
   "cell_type": "code",
   "execution_count": 45,
   "id": "d50fdf7f",
   "metadata": {},
   "outputs": [],
   "source": [
    "# Group and aggregate the data\n",
    "daily_purchase_data = purchase_data.groupby(['date'], as_index=False)\n",
    "daily_purchase_data = daily_purchase_data.agg({'purchase': ['sum', 'count']})"
   ]
  },
  {
   "cell_type": "code",
   "execution_count": 46,
   "id": "27fae26f",
   "metadata": {},
   "outputs": [],
   "source": [
    "# Find the mean of each field\n",
    "daily_purchases = daily_purchase_data.purchase['sum'].mean()\n",
    "daily_paywall_views = daily_purchase_data.purchase['count'].mean()"
   ]
  },
  {
   "cell_type": "code",
   "execution_count": 47,
   "id": "b752f42f",
   "metadata": {},
   "outputs": [
    {
     "name": "stdout",
     "output_type": "stream",
     "text": [
      "\n",
      "Daily Purchases: 4111.11111111111\n",
      "\n",
      "Daily Paywall Views: 111111.11111111111\n"
     ]
    }
   ],
   "source": [
    "# Multiple by 1000 so our result reflects the magnitude change if we had been observing the entire population.\n",
    "daily_purchases = daily_purchases * 1000\n",
    "daily_paywall_views = daily_paywall_views * 1000\n",
    "\n",
    "print('\\nDaily Purchases:', daily_purchases)\n",
    "print('\\nDaily Paywall Views:', daily_paywall_views)"
   ]
  },
  {
   "cell_type": "markdown",
   "id": "83d5ff28",
   "metadata": {},
   "source": [
    "## Sensitivity"
   ]
  },
  {
   "cell_type": "code",
   "execution_count": 48,
   "id": "d1b43d67",
   "metadata": {},
   "outputs": [],
   "source": [
    "conversion_rate = 0.03468"
   ]
  },
  {
   "cell_type": "code",
   "execution_count": 50,
   "id": "bdb90172",
   "metadata": {},
   "outputs": [
    {
     "name": "stdout",
     "output_type": "stream",
     "text": [
      "\n",
      "Small Convertion Rate: 0.03814800000000001\n",
      "\n",
      "Small Purchasers: 4238.666666666668\n",
      "\n",
      "Purchaser Lift: 127.55555555555748\n"
     ]
    }
   ],
   "source": [
    "small_sensitivity = 0.1 \n",
    "\n",
    "# Find the conversion rate when increased by the percentage of the sensitivity above\n",
    "small_conv_rate = conversion_rate * (1 + small_sensitivity)\n",
    "\n",
    "# Apply the new conversion rate to find how many more users per day that translates to\n",
    "small_purchasers = daily_paywall_views * small_conv_rate\n",
    "\n",
    "# Subtract the initial daily_purcahsers number from this new value to see the lift\n",
    "purchaser_lift = small_purchasers - daily_purchases\n",
    "\n",
    "print('\\nSmall Convertion Rate:', small_conv_rate)\n",
    "print('\\nSmall Purchasers:', small_purchasers)\n",
    "print('\\nPurchaser Lift:', purchaser_lift)"
   ]
  },
  {
   "cell_type": "code",
   "execution_count": 51,
   "id": "49f3ec85",
   "metadata": {},
   "outputs": [
    {
     "name": "stdout",
     "output_type": "stream",
     "text": [
      "\n",
      "Medium Convertion Rate: 0.041616\n",
      "\n",
      "Medium Purchasers: 4624.0\n",
      "\n",
      "Purchaser Lift: 512.8888888888896\n"
     ]
    }
   ],
   "source": [
    "medium_sensitivity = 0.2\n",
    "\n",
    "# Find the conversion rate lift with the sensitivity above\n",
    "medium_conv_rate = conversion_rate * (1 + medium_sensitivity)\n",
    "\n",
    "# Find how many more users per day that translates to\n",
    "medium_purchasers = daily_paywall_views * medium_conv_rate\n",
    "\n",
    "# Subtract the initial daily_purcahsers number from this new value to see the lift\n",
    "purchaser_lift = medium_purchasers - daily_purchases\n",
    "\n",
    "print('\\nMedium Convertion Rate:', medium_conv_rate)\n",
    "print('\\nMedium Purchasers:', medium_purchasers)\n",
    "print('\\nPurchaser Lift:', purchaser_lift)"
   ]
  },
  {
   "cell_type": "code",
   "execution_count": 52,
   "id": "89f6a140",
   "metadata": {},
   "outputs": [
    {
     "name": "stdout",
     "output_type": "stream",
     "text": [
      "\n",
      "Large Convertion Rate: 0.052020000000000004\n",
      "\n",
      "Large Purchasers: 5780.0\n",
      "\n",
      "Purchaser Lift: 1668.8888888888896\n"
     ]
    }
   ],
   "source": [
    "large_sensitivity = 0.5\n",
    "\n",
    "# Find the conversion rate lift with the sensitivity above \n",
    "large_conv_rate = conversion_rate * (1 + large_sensitivity)\n",
    "\n",
    "# Find how many more users per day that translates to\n",
    "large_purchasers = daily_paywall_views * large_conv_rate\n",
    "\n",
    "# Subtract the initial daily_purcahsers number from this new value to see the lift\n",
    "purchaser_lift = large_purchasers - daily_purchases\n",
    "\n",
    "print('\\nLarge Convertion Rate:', large_conv_rate)\n",
    "print('\\nLarge Purchasers:', large_purchasers)\n",
    "print('\\nPurchaser Lift:', purchaser_lift)"
   ]
  },
  {
   "cell_type": "markdown",
   "id": "29ad007d",
   "metadata": {},
   "source": [
    "While it seems that a 50% increase may be too drastic and unreasonable to expect, the small and medium sensitivities both seem very reasonable."
   ]
  },
  {
   "cell_type": "markdown",
   "id": "c5f9e172",
   "metadata": {},
   "source": [
    "### Standard Error"
   ]
  },
  {
   "cell_type": "code",
   "execution_count": 54,
   "id": "56b39085",
   "metadata": {},
   "outputs": [],
   "source": [
    "# Find the n & v quantities\n",
    "n = purchase_data.purchase.count()"
   ]
  },
  {
   "cell_type": "code",
   "execution_count": 55,
   "id": "e9b41b7e",
   "metadata": {},
   "outputs": [],
   "source": [
    "# Calculate the quantity \"v\"\n",
    "v = conversion_rate * (1 - conversion_rate)"
   ]
  },
  {
   "cell_type": "code",
   "execution_count": 56,
   "id": "8870c51c",
   "metadata": {},
   "outputs": [],
   "source": [
    "# Calculate the variance and standard error of the estimate\n",
    "var = v / n"
   ]
  },
  {
   "cell_type": "code",
   "execution_count": 59,
   "id": "6072e807",
   "metadata": {},
   "outputs": [
    {
     "data": {
      "text/plain": [
       "0.00578595693036165"
      ]
     },
     "execution_count": 59,
     "metadata": {},
     "output_type": "execute_result"
    }
   ],
   "source": [
    "# Standard Error\n",
    "se = var**0.5\n",
    "se"
   ]
  },
  {
   "cell_type": "markdown",
   "id": "cd9cf9e5",
   "metadata": {},
   "source": [
    "### Exploring the power calculation"
   ]
  },
  {
   "cell_type": "code",
   "execution_count": 62,
   "id": "4ddf0230",
   "metadata": {},
   "outputs": [],
   "source": [
    "def get_power(n, p1, p2, cl):\n",
    "    alpha = 1 - cl\n",
    "    \n",
    "    qu = stats.norm.ppf(1 - alpha/2)\n",
    "    \n",
    "    diff = abs(p2 - p1)\n",
    "    bp = (p1 + p2) / 2\n",
    "    \n",
    "    v1 = p1 * (1 - p1)\n",
    "    v2 = p2 * (1 - p2)\n",
    "    \n",
    "    bv = bp * (1 - bp)\n",
    "    \n",
    "    power_part_one = stats.norm.cdf((n**0.5 * diff - qu * (2 * bv)**0.5)/ (v1 + v2)**0.5)\n",
    "    power_part_two = 1 - stats.norm.cdf((n**0.5 * diff + qu * (2 * bv)**0.5) / (v1 + v2)**0.5)\n",
    "    \n",
    "    power = power_part_one + power_part_two\n",
    "    return(power)\n",
    "\n",
    "p1 = 0.1\n",
    "p2 = 0.12\n",
    "cl = 0.95\n",
    "n1 = 1000"
   ]
  },
  {
   "cell_type": "code",
   "execution_count": 63,
   "id": "b2a668ab",
   "metadata": {},
   "outputs": [],
   "source": [
    "# Look at the impact of sample size increase on power\n",
    "n_param_one = get_power(n=1000, p1=p1, p2=p2, cl=cl)\n",
    "n_param_two = get_power(n=2000, p1=p1, p2=p2, cl=cl)"
   ]
  },
  {
   "cell_type": "code",
   "execution_count": 64,
   "id": "5037a35d",
   "metadata": {},
   "outputs": [],
   "source": [
    "# Look at the impact of confidence level increase on power\n",
    "alpha_param_one = get_power(n=n1, p1=p1, p2=p2, cl=0.8)\n",
    "alpha_param_two = get_power(n=n1, p1=p1, p2=p2, cl=0.95)"
   ]
  },
  {
   "cell_type": "code",
   "execution_count": 69,
   "id": "2931dd5b",
   "metadata": {},
   "outputs": [
    {
     "name": "stdout",
     "output_type": "stream",
     "text": [
      "1.7596440001351992\n"
     ]
    }
   ],
   "source": [
    "print(n_param_two / n_param_one)"
   ]
  },
  {
   "cell_type": "code",
   "execution_count": 70,
   "id": "3df44f33",
   "metadata": {},
   "outputs": [
    {
     "name": "stdout",
     "output_type": "stream",
     "text": [
      "1.8857367092232278\n"
     ]
    }
   ],
   "source": [
    "print(alpha_param_one / alpha_param_two)"
   ]
  },
  {
   "cell_type": "markdown",
   "id": "095477bd",
   "metadata": {},
   "source": [
    " With these particular values, it looks like decreasing our confidence level has a slightly larger impact on the power than increasing our sample size."
   ]
  },
  {
   "cell_type": "markdown",
   "id": "0a64ec9b",
   "metadata": {},
   "source": [
    "### Calculating the sample size"
   ]
  },
  {
   "cell_type": "code",
   "execution_count": 71,
   "id": "f6ffef80",
   "metadata": {},
   "outputs": [],
   "source": [
    "def get_sample_size(power, p1, p2, cl, max_n=1000000):\n",
    "    n = 1\n",
    "    while n < max_n:\n",
    "        tmp_power = get_power(n, p1, p2, cl)\n",
    "        \n",
    "        if tmp_power >= power:\n",
    "            return n\n",
    "        else:\n",
    "            n = n + 100\n",
    "    \n",
    "    return 'Increase Max N value'"
   ]
  },
  {
   "cell_type": "code",
   "execution_count": 73,
   "id": "34fa2d2a",
   "metadata": {},
   "outputs": [
    {
     "data": {
      "text/plain": [
       "0.037"
      ]
     },
     "execution_count": 73,
     "metadata": {},
     "output_type": "execute_result"
    }
   ],
   "source": [
    "# Merge the demographics and purchase data to only include paywall views\n",
    "purchase_data = data_demographic.merge(paywall_views, how='inner', on=['uid'])\n",
    "  \n",
    "# Find the conversion rate\n",
    "conversion_rate = (sum(purchase_data.purchase) / purchase_data.purchase.count())\n",
    "\n",
    "conversion_rate"
   ]
  },
  {
   "cell_type": "code",
   "execution_count": 74,
   "id": "5380202f",
   "metadata": {},
   "outputs": [
    {
     "name": "stdout",
     "output_type": "stream",
     "text": [
      "33801\n"
     ]
    }
   ],
   "source": [
    "# Desired Power: 0.8\n",
    "# CL: 0.90\n",
    "# Percent Lift: 0.1\n",
    "p2 = conversion_rate * (1 + 0.1)\n",
    "sample_size = get_sample_size(0.8, conversion_rate, p2, 0.90)\n",
    "print(sample_size)"
   ]
  },
  {
   "cell_type": "code",
   "execution_count": 75,
   "id": "fb6d586e",
   "metadata": {},
   "outputs": [
    {
     "name": "stdout",
     "output_type": "stream",
     "text": [
      "59101\n"
     ]
    }
   ],
   "source": [
    "# Desired Power: 0.95\n",
    "# CL: 0.90\n",
    "# Percent Lift: 0.1\n",
    "p2 = conversion_rate * (1 + 0.1)\n",
    "sample_size = get_sample_size(0.95, conversion_rate, p2, 0.90)\n",
    "print(sample_size)"
   ]
  },
  {
   "cell_type": "markdown",
   "id": "27b33a0e",
   "metadata": {},
   "source": [
    "## Analyzing the A/B test results"
   ]
  },
  {
   "cell_type": "code",
   "execution_count": 77,
   "id": "2d8846a1",
   "metadata": {},
   "outputs": [],
   "source": [
    "# Load data\n",
    "ab_test_results = pd.read_csv('AB_testing_file.csv')"
   ]
  },
  {
   "cell_type": "code",
   "execution_count": 78,
   "id": "e11bdd31",
   "metadata": {},
   "outputs": [
    {
     "data": {
      "text/html": [
       "<div>\n",
       "<style scoped>\n",
       "    .dataframe tbody tr th:only-of-type {\n",
       "        vertical-align: middle;\n",
       "    }\n",
       "\n",
       "    .dataframe tbody tr th {\n",
       "        vertical-align: top;\n",
       "    }\n",
       "\n",
       "    .dataframe thead th {\n",
       "        text-align: right;\n",
       "    }\n",
       "</style>\n",
       "<table border=\"1\" class=\"dataframe\">\n",
       "  <thead>\n",
       "    <tr style=\"text-align: right;\">\n",
       "      <th></th>\n",
       "      <th>uid</th>\n",
       "    </tr>\n",
       "    <tr>\n",
       "      <th>group</th>\n",
       "      <th></th>\n",
       "    </tr>\n",
       "  </thead>\n",
       "  <tbody>\n",
       "    <tr>\n",
       "      <th>GRP A</th>\n",
       "      <td>23009</td>\n",
       "    </tr>\n",
       "    <tr>\n",
       "      <th>GRP B</th>\n",
       "      <td>22874</td>\n",
       "    </tr>\n",
       "  </tbody>\n",
       "</table>\n",
       "</div>"
      ],
      "text/plain": [
       "         uid\n",
       "group       \n",
       "GRP A  23009\n",
       "GRP B  22874"
      ]
     },
     "execution_count": 78,
     "metadata": {},
     "output_type": "execute_result"
    }
   ],
   "source": [
    "results = ab_test_results.groupby('group').agg({'uid': pd.Series.nunique})\n",
    "results"
   ]
  },
  {
   "cell_type": "code",
   "execution_count": 79,
   "id": "417279e0",
   "metadata": {},
   "outputs": [
    {
     "name": "stdout",
     "output_type": "stream",
     "text": [
      "             uid\n",
      "group           \n",
      "GRP A  50.147113\n",
      "GRP B  49.852887\n"
     ]
    }
   ],
   "source": [
    "# Find the overall number of unique users using \"len\" and \"unique\"\n",
    "unique_users = len(ab_test_results.uid.unique())\n",
    "\n",
    "# Find the percentage in each group\n",
    "results = results / unique_users * 100\n",
    "print(results)"
   ]
  },
  {
   "cell_type": "code",
   "execution_count": 80,
   "id": "a36f92e1",
   "metadata": {},
   "outputs": [
    {
     "name": "stdout",
     "output_type": "stream",
     "text": [
      "                           uid\n",
      "group device gender           \n",
      "GRP A A      F       12.239827\n",
      "             M       12.795589\n",
      "      I      F       12.542772\n",
      "             M       12.568925\n",
      "GRP B A      F       12.553669\n",
      "             M       12.499183\n",
      "      I      F       12.283417\n",
      "             M       12.516618\n"
     ]
    }
   ],
   "source": [
    "# Find the unique users in each group \n",
    "results = ab_test_results.groupby(by=['group', 'device', 'gender']).agg({'uid': pd.Series.nunique}) \n",
    "\n",
    "# Find the overall number of unique users using \"len\" and \"unique\"\n",
    "unique_users = len(ab_test_results.uid.unique())\n",
    "\n",
    "# Find the percentage in each group\n",
    "results = results / unique_users * 100\n",
    "print(results)"
   ]
  },
  {
   "cell_type": "markdown",
   "id": "01eeffdd",
   "metadata": {},
   "source": [
    "### Statistical Significance"
   ]
  },
  {
   "cell_type": "code",
   "execution_count": 81,
   "id": "a24fde12",
   "metadata": {},
   "outputs": [],
   "source": [
    "def get_pvalue(con_conv, test_conv, con_size, test_size):  \n",
    "    lift =  - abs(test_conv - con_conv)\n",
    "\n",
    "    scale_one = con_conv * (1 - con_conv) * (1 / con_size)\n",
    "    scale_two = test_conv * (1 - test_conv) * (1 / test_size)\n",
    "    scale_val = (scale_one + scale_two)**0.5\n",
    "\n",
    "    p_value = 2 * stats.norm.cdf(lift, loc = 0, scale = scale_val )\n",
    "\n",
    "    return p_value"
   ]
  },
  {
   "cell_type": "code",
   "execution_count": 82,
   "id": "3a8eaed8",
   "metadata": {},
   "outputs": [
    {
     "data": {
      "text/plain": [
       "4.131297741047306e-06"
      ]
     },
     "execution_count": 82,
     "metadata": {},
     "output_type": "execute_result"
    }
   ],
   "source": [
    "# Get the p-value\n",
    "p_value = get_pvalue(con_conv=0.1, test_conv=0.17, con_size=1000, test_size=1000)\n",
    "p_value"
   ]
  },
  {
   "cell_type": "code",
   "execution_count": 84,
   "id": "0c1e85d6",
   "metadata": {},
   "outputs": [
    {
     "data": {
      "text/plain": [
       "0.28366948940702086"
      ]
     },
     "execution_count": 84,
     "metadata": {},
     "output_type": "execute_result"
    }
   ],
   "source": [
    "# Find the p-value with control conversion of 0.1, test conversion of 0.15, and 100 observations in each group.\n",
    "# Get the p-value\n",
    "p_value = get_pvalue(con_conv=0.1, test_conv=0.15, con_size=100, test_size=100)\n",
    "p_value"
   ]
  },
  {
   "cell_type": "code",
   "execution_count": 85,
   "id": "231e1452",
   "metadata": {},
   "outputs": [
    {
     "data": {
      "text/plain": [
       "0.370901935824383"
      ]
     },
     "execution_count": 85,
     "metadata": {},
     "output_type": "execute_result"
    }
   ],
   "source": [
    "# find the p-value with control conversion of 0.48, test conversion of 0.50, and 1000 observations in each group.\n",
    "p_value = get_pvalue(con_conv=0.48, test_conv=0.50, con_size=1000, test_size=1000)\n",
    "p_value"
   ]
  },
  {
   "cell_type": "markdown",
   "id": "0caec906",
   "metadata": {},
   "source": [
    "To recap, we observed that a large lift makes us confident in our observed result, while a small sample size makes us less so, and ultimately high variance can lead to a high p-value!"
   ]
  },
  {
   "cell_type": "code",
   "execution_count": 86,
   "id": "0817a975",
   "metadata": {},
   "outputs": [],
   "source": [
    "cont_conv, test_conv, cont_size, test_size = (0.09096495570387314, 0.1020053238686779, 5329, 5748)"
   ]
  },
  {
   "cell_type": "code",
   "execution_count": 87,
   "id": "0e5051d3",
   "metadata": {},
   "outputs": [
    {
     "data": {
      "text/plain": [
       "0.04900185792087508"
      ]
     },
     "execution_count": 87,
     "metadata": {},
     "output_type": "execute_result"
    }
   ],
   "source": [
    "# Compute the p-value\n",
    "p_value = get_pvalue(cont_conv, test_conv, cont_size, test_size)\n",
    "p_value"
   ]
  },
  {
   "cell_type": "code",
   "execution_count": 88,
   "id": "85c0f232",
   "metadata": {},
   "outputs": [
    {
     "name": "stdout",
     "output_type": "stream",
     "text": [
      "Significant Resulst\n"
     ]
    }
   ],
   "source": [
    "if p_value >= 0.05:\n",
    "    print('Not Significant')\n",
    "else:\n",
    "    print('Significant Resulst')"
   ]
  },
  {
   "cell_type": "markdown",
   "id": "fea7f1ca",
   "metadata": {},
   "source": [
    "because our result is significant, we can continue to provide confidence intervals"
   ]
  },
  {
   "cell_type": "markdown",
   "id": "acd9bb1c",
   "metadata": {},
   "source": [
    "### Confidence Interval"
   ]
  },
  {
   "cell_type": "code",
   "execution_count": 90,
   "id": "a954519f",
   "metadata": {},
   "outputs": [
    {
     "data": {
      "text/plain": [
       "(0.9755040421682947, 1.0244959578317054)"
      ]
     },
     "execution_count": 90,
     "metadata": {},
     "output_type": "execute_result"
    }
   ],
   "source": [
    "# Find the confidence interval with a value of 1, a confidence level of 0.975 and a standard deviation of 0.5.\n",
    "def get_ci(value, cl, sd):\n",
    "    loc = sci.norm.ppf(1 - cl / 2)\n",
    "    rng_val = sci.norm.cdf(loc - value/sd)\n",
    "    lwr_bnd = value - rng_val\n",
    "    upr_bnd = value + rng_val\n",
    "    return_val = (lwr_bnd, upr_bnd)\n",
    "    return(return_val)\n",
    "\n",
    "# Compute and print the confidence interval\n",
    "confidence_interval = get_ci(1, 0.975, 0.5)\n",
    "confidence_interval"
   ]
  },
  {
   "cell_type": "code",
   "execution_count": 91,
   "id": "b94d36a1",
   "metadata": {},
   "outputs": [
    {
     "data": {
      "text/plain": [
       "(0.6690506448818785, 1.3309493551181215)"
      ]
     },
     "execution_count": 91,
     "metadata": {},
     "output_type": "execute_result"
    }
   ],
   "source": [
    "# updating the confidence level to 0.95 and the standard deviation to 2. Leave the value as 1\n",
    "# Compute and print the confidence interval\n",
    "confidence_interval  = get_ci(1, 0.95, 2)\n",
    "confidence_interval"
   ]
  },
  {
   "cell_type": "code",
   "execution_count": 92,
   "id": "59d0340e",
   "metadata": {},
   "outputs": [
    {
     "data": {
      "text/plain": [
       "(1.0, 1.0)"
      ]
     },
     "execution_count": 92,
     "metadata": {},
     "output_type": "execute_result"
    }
   ],
   "source": [
    "# Change Standard Deviation with 0.001\n",
    "confidence_interval  = get_ci(1, 0.95, 0.001)\n",
    "confidence_interval"
   ]
  },
  {
   "cell_type": "markdown",
   "id": "0ff29bd7",
   "metadata": {},
   "source": [
    "As our standard deviation decreases so too do the width of our confidence interval."
   ]
  },
  {
   "cell_type": "code",
   "execution_count": 93,
   "id": "b39273b5",
   "metadata": {},
   "outputs": [],
   "source": [
    "# Calculate the mean of our lift distribution \n",
    "lift_mean = test_conv - cont_conv"
   ]
  },
  {
   "cell_type": "code",
   "execution_count": 97,
   "id": "4e02b94f",
   "metadata": {},
   "outputs": [
    {
     "data": {
      "text/plain": [
       "(-0.01729325163576479, 0.039373987965374314)"
      ]
     },
     "execution_count": 97,
     "metadata": {},
     "output_type": "execute_result"
    }
   ],
   "source": [
    "# Calculate variance and standard deviation \n",
    "lift_variance = (1 - test_conv) * test_conv / test_size + (1 - cont_conv) * cont_conv / cont_size\n",
    "\n",
    "lift_sd = lift_variance**0.5\n",
    "\n",
    "# Find the confidence intervals with cl = 0.95\n",
    "confidence_interval = get_ci(lift_mean, 0.95, lift_sd)\n",
    "confidence_interval"
   ]
  },
  {
   "cell_type": "markdown",
   "id": "2a614a39",
   "metadata": {},
   "source": [
    "Notice that our interval is very narrow thanks to our substantial lift and large sample size."
   ]
  },
  {
   "cell_type": "markdown",
   "id": "631a3466",
   "metadata": {},
   "source": [
    "### Interpreting the result"
   ]
  },
  {
   "cell_type": "code",
   "execution_count": 98,
   "id": "f842010b",
   "metadata": {},
   "outputs": [],
   "source": [
    "cont_var = 1.411507925080655e-06\n",
    "test_var = 1.6255542142857143e-06\n",
    "test_conv = 0.102005\n",
    "cont_conv = 0.090965"
   ]
  },
  {
   "cell_type": "code",
   "execution_count": 99,
   "id": "be4ef414",
   "metadata": {},
   "outputs": [],
   "source": [
    "# Compute the standard deviations\n",
    "control_sd = cont_var**0.5\n",
    "test_sd = test_var**0.5\n",
    "\n",
    "# Create range of x values\n",
    "control_line = np.linspace(cont_conv - 3 * control_sd, cont_conv + 3 * control_sd, 100)\n",
    "test_line = np.linspace(test_conv - 3 * test_sd ,test_conv +  3 * test_sd, 100)"
   ]
  },
  {
   "cell_type": "code",
   "execution_count": 101,
   "id": "50428f72",
   "metadata": {},
   "outputs": [
    {
     "data": {
      "image/png": "[encoded data removed]",
      "text/plain": [
       "<Figure size 432x288 with 1 Axes>"
      ]
     },
     "metadata": {
      "needs_background": "light"
     },
     "output_type": "display_data"
    }
   ],
   "source": [
    "# Plot the distribution     \n",
    "plt.plot(control_line, scipy.stats.norm.pdf(control_line, cont_conv, control_sd))\n",
    "plt.plot(test_line, scipy.stats.norm.pdf(test_line, test_conv, test_sd))\n",
    "plt.show()"
   ]
  },
  {
   "cell_type": "markdown",
   "id": "115cdf08",
   "metadata": {},
   "source": [
    "We see no overlap, which intuitively implies that our test and control conversion rates are significantly distinct."
   ]
  },
  {
   "cell_type": "code",
   "execution_count": 102,
   "id": "8f794050",
   "metadata": {},
   "outputs": [],
   "source": [
    "# plot the difference distribution of our results that is, the distribution of our lift.\n",
    "lwr_ci = 0.01103999822042502\n",
    "upr_ci = 0.011040000177957487"
   ]
  },
  {
   "cell_type": "code",
   "execution_count": 103,
   "id": "ba242f65",
   "metadata": {},
   "outputs": [],
   "source": [
    "# Find the lift statistics\n",
    "lift_mean = test_conv - cont_conv\n",
    "lift_sd = (test_var + cont_var) ** 0.5"
   ]
  },
  {
   "cell_type": "code",
   "execution_count": 104,
   "id": "0533a96c",
   "metadata": {},
   "outputs": [],
   "source": [
    "# Generate the range of x-values\n",
    "lift_line = np.linspace(lift_mean - 3 * lift_sd, lift_mean + 3 * lift_sd, 100)"
   ]
  },
  {
   "cell_type": "code",
   "execution_count": 107,
   "id": "72115602",
   "metadata": {},
   "outputs": [
    {
     "data": {
      "image/png": "[encoded data removed]",
      "text/plain": [
       "<Figure size 432x288 with 1 Axes>"
      ]
     },
     "metadata": {
      "needs_background": "light"
     },
     "output_type": "display_data"
    }
   ],
   "source": [
    "# Plot the distribution \n",
    "plt.plot(lift_line, scipy.stats.norm.pdf(lift_line, lift_mean, lift_sd))\n",
    "# Add the annotation lines\n",
    "plt.axvline(x = lift_mean, color = 'green')\n",
    "plt.axvline(x = lwr_ci, color = 'red')\n",
    "plt.axvline(x = upr_ci, color = 'red')\n",
    "plt.xlim([0.006, 0.016])\n",
    "plt.show()"
   ]
  },
  {
   "cell_type": "markdown",
   "id": "cc54c6fa",
   "metadata": {},
   "source": [
    " This really contextualizes the lift we observed and provides more information than reporting the numerical point estimate alone would."
   ]
  }
 ],
 "metadata": {
  "kernelspec": {
   "display_name": "Python 3",
   "language": "python",
   "name": "python3"
  },
  "language_info": {
   "codemirror_mode": {
    "name": "ipython",
    "version": 3
   },
   "file_extension": ".py",
   "mimetype": "text/x-python",
   "name": "python",
   "nbconvert_exporter": "python",
   "pygments_lexer": "ipython3",
   "version": "3.8.8"
  }
 },
 "nbformat": 4,
 "nbformat_minor": 5
}
